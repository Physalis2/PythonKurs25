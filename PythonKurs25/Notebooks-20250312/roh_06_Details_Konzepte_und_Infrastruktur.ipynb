{
 "cells": [
  {
   "cell_type": "markdown",
   "metadata": {},
   "source": [
    "# Kleine Programmier-Philosophie\n",
    "## Details\n",
    "* Details sind die Bestandteile eine Programms, die etwas \"tun\" / die einen Effekt haben\n",
    "    * Eingabe (z.B. input(), loadtxt(), ...)\n",
    "    * Berechnungen (x = x * y + 10 / z)\n",
    "    * Bilder anzeigen\n",
    "    * Autos lenken ...\n",
    "    * Ausgabe (z.B. print(), savefig(), ...)    \n",
    "* Unterschiedliche Programme unterscheiden sich in ihren Details\n",
    "* Ein Programm kann ausschließlich aus Details bestehen"
   ]
  },
  {
   "cell_type": "code",
   "execution_count": 1,
   "metadata": {},
   "outputs": [
    {
     "name": "stdout",
     "output_type": "stream",
     "text": [
      "*\n",
      "**\n",
      "*\n"
     ]
    }
   ],
   "source": [
    "print('*')\n",
    "print('**')\n",
    "print('*')"
   ]
  },
  {
   "cell_type": "code",
   "execution_count": 2,
   "metadata": {},
   "outputs": [
    {
     "name": "stdout",
     "output_type": "stream",
     "text": [
      "*\n",
      "**\n",
      "***\n",
      "**\n",
      "*\n"
     ]
    }
   ],
   "source": [
    "print('*')\n",
    "print('**')\n",
    "print('***')\n",
    "print('**')\n",
    "print('*')"
   ]
  },
  {
   "cell_type": "markdown",
   "metadata": {},
   "source": [
    "## Konzepte\n",
    "* Konzepte sind in jedem Programm identisch\n",
    "* Ein Programm, das nur aus Konzepten besteht, hat keinen Effekt\n",
    "* Wir haben alle Konzepte kennengelernt, die es in Python gibt\n",
    "* Es gibt genau ZWEI Konzepte"
   ]
  },
  {
   "cell_type": "code",
   "execution_count": null,
   "metadata": {},
   "outputs": [],
   "source": [
    "# 1. Variablen\n",
    "# 2. Bedingte Schleifen (IF, FOR, WHILE)"
   ]
  },
  {
   "cell_type": "code",
   "execution_count": 3,
   "metadata": {},
   "outputs": [
    {
     "name": "stdout",
     "output_type": "stream",
     "text": [
      "*\n",
      "**\n",
      "*\n"
     ]
    }
   ],
   "source": [
    "a = 2\n",
    "if a == 1:\n",
    "    print('*')\n",
    "elif a == 2:\n",
    "    print('*')\n",
    "    print('**')\n",
    "    print('*')\n",
    "elif a == 3:\n",
    "    print('*')\n",
    "    print('**')\n",
    "    print('***')\n",
    "    print('**')\n",
    "    print('*')\n",
    "else:\n",
    "    print('Not implemented yet')\n",
    "    "
   ]
  },
  {
   "cell_type": "code",
   "execution_count": 5,
   "metadata": {},
   "outputs": [
    {
     "name": "stdout",
     "output_type": "stream",
     "text": [
      "Not implemented yet\n"
     ]
    }
   ],
   "source": [
    "a = 4\n",
    "if a == 1:\n",
    "    print('*')\n",
    "elif a == 2:\n",
    "    print('*')\n",
    "    print('**')\n",
    "    print('*')\n",
    "elif a == 3:\n",
    "    print('*')\n",
    "    print('**')\n",
    "    print('***')\n",
    "    print('**')\n",
    "    print('*')\n",
    "else:\n",
    "    print('Not implemented yet')\n",
    "    "
   ]
  },
  {
   "cell_type": "code",
   "execution_count": 1,
   "metadata": {},
   "outputs": [
    {
     "name": "stdout",
     "output_type": "stream",
     "text": [
      "*\n",
      "**\n",
      "***\n",
      "****\n",
      "***\n",
      "**\n",
      "*\n"
     ]
    }
   ],
   "source": [
    "a = 4\n",
    "for i in range(1,a+1):\n",
    "    for _ in range(i):\n",
    "        print('*', end='')\n",
    "    print()\n",
    "for i in range(a-1,0,-1):\n",
    "    for _ in range(i):\n",
    "        print('*', end='')\n",
    "    print()  "
   ]
  },
  {
   "cell_type": "markdown",
   "metadata": {},
   "source": [
    "## Wie viele Konzepte gibt es in anderen Programmiersprachen?"
   ]
  },
  {
   "cell_type": "markdown",
   "metadata": {},
   "source": [
    "## Infrastruktur\n",
    "* Programmiersprachen sind Infrastrukturen für die Organisation von Sourcecode (Textdateien)\n",
    "* Sie ermöglichen Wiederverwendung von Sourcecodes\n",
    "* In Python gibt es drei Werkzeuge dafür\n",
    "    * Funktionen\n",
    "    * Klassen\n",
    "    * Module"
   ]
  },
  {
   "cell_type": "code",
   "execution_count": 17,
   "metadata": {},
   "outputs": [],
   "source": [
    "def dreieck(a = 3):\n",
    "    for i in range(1,a+1):\n",
    "        for _ in range(i):\n",
    "            print('*', end='')\n",
    "        print()\n",
    "    for i in range(a-1,0,-1):\n",
    "        for _ in range(i):\n",
    "            print('*', end='')\n",
    "        print()  "
   ]
  },
  {
   "cell_type": "code",
   "execution_count": 18,
   "metadata": {},
   "outputs": [
    {
     "name": "stdout",
     "output_type": "stream",
     "text": [
      "*\n",
      "**\n",
      "***\n",
      "**\n",
      "*\n"
     ]
    }
   ],
   "source": [
    "dreieck()"
   ]
  },
  {
   "cell_type": "code",
   "execution_count": 19,
   "metadata": {},
   "outputs": [
    {
     "name": "stdout",
     "output_type": "stream",
     "text": [
      "*\n",
      "**\n",
      "***\n",
      "****\n",
      "*****\n",
      "****\n",
      "***\n",
      "**\n",
      "*\n"
     ]
    }
   ],
   "source": [
    "dreieck(5)"
   ]
  }
 ],
 "metadata": {
  "kernelspec": {
   "display_name": "Python 3 (ipykernel)",
   "language": "python",
   "name": "python3"
  },
  "language_info": {
   "codemirror_mode": {
    "name": "ipython",
    "version": 3
   },
   "file_extension": ".py",
   "mimetype": "text/x-python",
   "name": "python",
   "nbconvert_exporter": "python",
   "pygments_lexer": "ipython3",
   "version": "3.12.7"
  }
 },
 "nbformat": 4,
 "nbformat_minor": 4
}
