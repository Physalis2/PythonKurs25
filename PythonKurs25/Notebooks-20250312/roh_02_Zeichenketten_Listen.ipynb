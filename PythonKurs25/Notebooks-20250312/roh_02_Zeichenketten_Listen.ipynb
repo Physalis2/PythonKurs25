{
 "cells": [
  {
   "cell_type": "markdown",
   "id": "805e58a8",
   "metadata": {},
   "source": [
    "# Teil 2: Grundtypen \"string\" und  \"list\"  (collections)  "
   ]
  },
  {
   "cell_type": "markdown",
   "id": "640953f3",
   "metadata": {},
   "source": [
    "## Zeichen(ketten) (string)\n",
    "\n",
    "werden in Anführungszeichen geschrieben: einfachen ' oder doppelten \" oder dreifachen  (''' oder \"\"\")\n",
    "(das letzte für Texte über mehrere Zeilen).    \n",
    "\n",
    "Sind gut für Dateiennamen, Fragen, Kodierung der DNA, etc. \n"
   ]
  },
  {
   "cell_type": "code",
   "execution_count": null,
   "id": "148986f6-7336-4335-a32c-e89dcc104ccd",
   "metadata": {},
   "outputs": [],
   "source": []
  },
  {
   "cell_type": "code",
   "execution_count": null,
   "id": "3714c21c-b1c0-4d15-8b8a-cb45f170dd3a",
   "metadata": {},
   "outputs": [],
   "source": []
  },
  {
   "cell_type": "markdown",
   "id": "8be7ee76",
   "metadata": {},
   "source": [
    "### Aufgabe 2.1\n",
    "Schreiben Sie ein Programm, dass die Benutzer auffordert den Namen und danach das Alter einzugeben.\n",
    "\n",
    "Geben Sie anschließen einen freundlichen Gruß an den eingegebenen Namen aus."
   ]
  },
  {
   "cell_type": "code",
   "execution_count": null,
   "id": "15ca5062-3f0e-457a-bbb5-bf839ba32eea",
   "metadata": {},
   "outputs": [],
   "source": []
  },
  {
   "cell_type": "markdown",
   "id": "0e273cd8",
   "metadata": {},
   "source": [
    "## Listen (list)\n",
    "\n",
    "Eine der einfachsten Arten, wie man Sequenzen in Python speichert. Ein Element der Liste kann ein beliebiges Python-Objekt sein:"
   ]
  },
  {
   "cell_type": "code",
   "execution_count": null,
   "id": "aee60c66-bbff-4823-95ff-a5e51c5f9094",
   "metadata": {},
   "outputs": [],
   "source": []
  },
  {
   "cell_type": "code",
   "execution_count": null,
   "id": "9fe2d5f6-3ffb-4927-925b-380018598912",
   "metadata": {},
   "outputs": [],
   "source": []
  },
  {
   "cell_type": "markdown",
   "id": "ebb8d41a",
   "metadata": {},
   "source": [
    "## Objekte in Python\n",
    "\n",
    "Fast alles in Python: Zahlen, Variablen, Konstanten, Funktionen, sind Objekte eines Types, die bestimmte Attribute besitzen können, und an denen bestimmte Methoden (Funktionen) angewandt werden können.\n",
    "\n",
    "Ein *Attribut* ist eine Eigenschaft, die abgefragt (get) oder dem Objekt gegeben (set) werden kann ``<Objekt_Name>.<Attribut_Name>``: z.B. ``komplexe_Zahl.imag``. \n",
    "\n",
    "Eine *Methode* ist eine Funktion, die auf dem Objekt angewandt werden kann, z.B. ``Liste.append(neues_Element)``.\n",
    "\n",
    "Um Methoden und Attribute eines Objekts kennenzulernen, kann man die TAB-Taste benutzen. \n",
    "Erst erstellen wir ein Objekt, z.B. eine Liste von vier Zahlen:\n",
    "\n",
    "    li = [6, 3, 2, 1]\n",
    "    \n",
    "Dann schreiben wir ``li.`` und drücken die TAB-Taste:     \n",
    "    \n",
    "    li.<TAB>\n",
    "\n",
    "So können wir alle Attribute und Methoden für ein Python ``list``-Objekt sehen.\n",
    "    \n",
    "\n",
    "    In [n]: li.\n",
    "    li.append   li.copy     li.extend   li.insert   li.remove   li.sort\n",
    "    li.clear    li.count    li.index    li.pop      li.reverse \n",
    "    \n",
    "Wenn man sehen will, was eine Methode macht, kann man das Fragezeichen benutzen:  \n",
    "    \n",
    "    In [m]: li.append?\n",
    "    Type:       builtin_function_or_method\n",
    "    String Form:<built-in method append of list object at 0x1027210e0>\n",
    "    Docstring:  L.append(object) -> None -- append object to end\n"
   ]
  },
  {
   "cell_type": "code",
   "execution_count": null,
   "id": "cb778938-3e49-4243-8e6d-517df7e7150c",
   "metadata": {},
   "outputs": [],
   "source": []
  },
  {
   "cell_type": "code",
   "execution_count": null,
   "id": "84a7aa8f-ec6c-4645-8014-fa1787ecd1aa",
   "metadata": {},
   "outputs": [],
   "source": []
  },
  {
   "cell_type": "markdown",
   "id": "958ef0af",
   "metadata": {},
   "source": [
    "### Aufgabe 2.2\n",
    "Folgendes Programm gibt die Wörter jeweils in einer neuen Zeile aus.\n",
    "```python\n",
    "print('eins')\n",
    "print('zwei')\n",
    "print('drei')\n",
    "print('vier')\n",
    "```\n",
    "Erweitern Sie (ohne etwas zu löschen, sie dürfen nur Code hinzufügen) das Programm so, dass alle Wörter in einer Zeile hintereinander ausgegeben werden. **Benutzen Sie dafür ein zusätzliches Argument der print-Funktion**."
   ]
  },
  {
   "cell_type": "code",
   "execution_count": null,
   "id": "f8795f15-fb18-4030-af48-e46cacc551f0",
   "metadata": {},
   "outputs": [],
   "source": []
  },
  {
   "cell_type": "markdown",
   "id": "9988de91",
   "metadata": {},
   "source": [
    "### Aufgabe 2.3*\n",
    "Streichen Sie das Wort ``'foo'`` aus der unten gegebenen Zeichenkette:"
   ]
  },
  {
   "cell_type": "code",
   "execution_count": null,
   "id": "7084551d",
   "metadata": {},
   "outputs": [],
   "source": [
    "k = \"Hallo, foo Welt\""
   ]
  },
  {
   "cell_type": "code",
   "execution_count": null,
   "id": "552e03ee-8e5c-4d69-813c-ef5341032d85",
   "metadata": {},
   "outputs": [],
   "source": []
  },
  {
   "cell_type": "markdown",
   "id": "deb0ef31",
   "metadata": {},
   "source": [
    "### Aufgabe 2.4\n",
    "\n",
    "Finden Sie, wie oft der Buchstabe 'A' in der Zeichenkette ``s`` ier unten vorkommt:"
   ]
  },
  {
   "cell_type": "code",
   "execution_count": null,
   "id": "ff184b38",
   "metadata": {},
   "outputs": [],
   "source": [
    "s = \"CAGTACCAAGTGAAAGAT\" #(ein Stück einer DNA-Sequenz)"
   ]
  },
  {
   "cell_type": "code",
   "execution_count": null,
   "id": "01ef36ce-9115-40b9-b432-276a002f3940",
   "metadata": {},
   "outputs": [],
   "source": []
  },
  {
   "cell_type": "markdown",
   "id": "5bb1faaa",
   "metadata": {},
   "source": [
    "### Aufgabe 2.5\n",
    "Erstellen Sie eine neue Liste aus den zwei unteren Listen, die die Elemente beider Listen beinhaltet."
   ]
  },
  {
   "cell_type": "code",
   "execution_count": null,
   "id": "223c77c9",
   "metadata": {},
   "outputs": [],
   "source": [
    "a = [1, 2, 3]\n",
    "b = [4, 5, 6]"
   ]
  },
  {
   "cell_type": "code",
   "execution_count": null,
   "id": "48b00248-0bf8-4d39-9022-c18146306188",
   "metadata": {},
   "outputs": [],
   "source": []
  },
  {
   "cell_type": "markdown",
   "id": "43e989a2",
   "metadata": {},
   "source": [
    "## Dynamic typing\n",
    "\n",
    "Im Gegensatz zum \"static typing\" in anderen Sprachen (z.B. C), wo man Variablen erst zu einem bestimmtem Typ deklarieren muss, Python-Variablen sind eigentlich Zeiger auf Objekte und sie können auf unterschiedliche Objekte zeigen. Im Fach-Jargon sagt man dazu \"dynamic typing\"."
   ]
  },
  {
   "cell_type": "code",
   "execution_count": null,
   "id": "0f682622-107c-4fe4-9e5a-b1a0a575aaad",
   "metadata": {},
   "outputs": [],
   "source": []
  },
  {
   "cell_type": "code",
   "execution_count": null,
   "id": "c3a58dc9-010e-444b-8f9d-fa1d8adb4bac",
   "metadata": {},
   "outputs": [],
   "source": []
  },
  {
   "cell_type": "markdown",
   "id": "a969fe28",
   "metadata": {},
   "source": [
    "## Änderung des Types einer Variablen\n",
    "\n",
    "Es gibt viele Fälle, wo man von Integer zum Float oder String oder andersrum wechseln muss. In dem Fall benutzt man einfach die Funktionen ``float()``, ``str()`` und ``int()``:"
   ]
  },
  {
   "cell_type": "code",
   "execution_count": null,
   "id": "289225fc-d277-45b4-bbc3-aaaa7500207e",
   "metadata": {},
   "outputs": [],
   "source": []
  },
  {
   "cell_type": "code",
   "execution_count": null,
   "id": "27beec3d-103b-4329-9633-d08b13a193f9",
   "metadata": {},
   "outputs": [],
   "source": []
  },
  {
   "cell_type": "markdown",
   "id": "aec9c65b",
   "metadata": {},
   "source": [
    "## Welche Variablennamen man meiden soll..."
   ]
  },
  {
   "cell_type": "code",
   "execution_count": null,
   "id": "0e5c3c4f",
   "metadata": {
    "scrolled": true
   },
   "outputs": [],
   "source": [
    "import keyword # Schlüsselworte\n",
    "print(keyword.kwlist)"
   ]
  },
  {
   "cell_type": "markdown",
   "id": "0dfc4dee",
   "metadata": {},
   "source": [
    "\n",
    "<center><b>Python Keywords </b></center>\n",
    "\n",
    "| Bedingte Anweisungen  |  | Schleifen |  | Eingebaute Funktionen | | Klassen,  Module, Funktionen |  | Fehlerbehandlung  |\n",
    "|-----------|--|-----------|--|-----------|--|------------|--|-----------|\n",
    "|  if       |  | for       |  | print     |  | class      |  | try       |\n",
    "|  else     |  | in        |  | pass      |  | def        |  | except    |\n",
    "|  elif     |  | while     |  | del       |  | global     |  | finally   |\n",
    "|  not      |  | break     |  | input     |  | lambda     |  | raise     |\n",
    "|  in       |  | as        |  |           |  | nonlocal   |  | assert    |\n",
    "|  or       |  | continue  |  |           |  | yield      |  | with      |\n",
    "|  and      |  |           |  |           |  | import     |  |           |\n",
    "|  is       |  |           |  |           |  | return     |  |           |\n",
    "|  True     |  |           |  |           |  | from       |  |           |\n",
    "|  False    |  |           |  |           |  |            |  |           |\n",
    "|  None     |  |           |  |           |  |            |  |           |\n",
    "|  match    |  |           |  |           |  |            |  |           |\n",
    "|  case     |  |           |  |           |  |            |  |           |\n"
   ]
  },
  {
   "cell_type": "code",
   "execution_count": null,
   "id": "95628880-1e4a-425e-a202-0f668f06b75c",
   "metadata": {},
   "outputs": [],
   "source": []
  },
  {
   "cell_type": "code",
   "execution_count": null,
   "id": "0d3f0322-d638-4404-8c35-7f52e4639653",
   "metadata": {},
   "outputs": [],
   "source": []
  }
 ],
 "metadata": {
  "kernelspec": {
   "display_name": "Python 3 (ipykernel)",
   "language": "python",
   "name": "python3"
  },
  "language_info": {
   "codemirror_mode": {
    "name": "ipython",
    "version": 3
   },
   "file_extension": ".py",
   "mimetype": "text/x-python",
   "name": "python",
   "nbconvert_exporter": "python",
   "pygments_lexer": "ipython3",
   "version": "3.12.4"
  }
 },
 "nbformat": 4,
 "nbformat_minor": 5
}
