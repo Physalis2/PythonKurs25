{
 "cells": [
  {
   "cell_type": "markdown",
   "id": "805e58a8",
   "metadata": {},
   "source": [
    "# Teil 2: Grundtypen \"string\" und  \"list\"  (collections)  "
   ]
  },
  {
   "cell_type": "markdown",
   "id": "640953f3",
   "metadata": {},
   "source": [
    "## Zeichen(ketten) (string)\n",
    "\n",
    "werden in Anführungszeichen geschrieben: einfachen ' oder doppelten \" oder dreifachen  (''' oder \"\"\")\n",
    "(das letzte für Texte über mehrere Zeilen).    \n",
    "\n",
    "Sind gut für Dateiennamen, Fragen, Kodierung der DNA, etc. \n"
   ]
  },
  {
   "cell_type": "code",
   "execution_count": 1,
   "id": "148986f6-7336-4335-a32c-e89dcc104ccd",
   "metadata": {},
   "outputs": [
    {
     "name": "stdout",
     "output_type": "stream",
     "text": [
      "Was magst du? Birnen\n"
     ]
    }
   ],
   "source": [
    "frage = \"Was magst du?\"\n",
    "antwort = \"Birnen\"\n",
    "print(frage, antwort)"
   ]
  },
  {
   "cell_type": "code",
   "execution_count": 2,
   "id": "3714c21c-b1c0-4d15-8b8a-cb45f170dd3a",
   "metadata": {},
   "outputs": [
    {
     "data": {
      "text/plain": [
       "'Was magst du? Birnen'"
      ]
     },
     "execution_count": 2,
     "metadata": {},
     "output_type": "execute_result"
    }
   ],
   "source": [
    "frage + ' ' + antwort"
   ]
  },
  {
   "cell_type": "code",
   "execution_count": 3,
   "id": "1fc4cdc0-520a-4a8a-8611-d935bff09273",
   "metadata": {},
   "outputs": [
    {
     "data": {
      "text/plain": [
       "'34'"
      ]
     },
     "execution_count": 3,
     "metadata": {},
     "output_type": "execute_result"
    }
   ],
   "source": [
    "#string adition\n",
    "\"3\" + \"4\" "
   ]
  },
  {
   "cell_type": "code",
   "execution_count": 4,
   "id": "bb463352-94fd-4501-956d-caad7661a8aa",
   "metadata": {},
   "outputs": [
    {
     "data": {
      "text/plain": [
       "'hallo \\n test\\n'"
      ]
     },
     "execution_count": 4,
     "metadata": {},
     "output_type": "execute_result"
    }
   ],
   "source": [
    "\"\"\"hallo \n",
    " test\n",
    "\"\"\""
   ]
  },
  {
   "cell_type": "code",
   "execution_count": 5,
   "id": "a386d644-f536-4f18-8fcb-a51180873122",
   "metadata": {},
   "outputs": [
    {
     "name": "stdin",
     "output_type": "stream",
     "text": [
      "Wie heist du 1\n"
     ]
    },
    {
     "data": {
      "text/plain": [
       "'1'"
      ]
     },
     "execution_count": 5,
     "metadata": {},
     "output_type": "execute_result"
    }
   ],
   "source": [
    "input(\"Wie heist du\")"
   ]
  },
  {
   "cell_type": "code",
   "execution_count": 6,
   "id": "678609e9-6ccf-4923-a315-4fac3866a49d",
   "metadata": {},
   "outputs": [
    {
     "name": "stdin",
     "output_type": "stream",
     "text": [
      "name: 4\n"
     ]
    }
   ],
   "source": [
    "x = input(\"name:\" )"
   ]
  },
  {
   "cell_type": "code",
   "execution_count": 7,
   "id": "8e9b6690-c015-42f9-b3e5-10a9c8323af7",
   "metadata": {},
   "outputs": [
    {
     "data": {
      "text/plain": [
       "'4'"
      ]
     },
     "execution_count": 7,
     "metadata": {},
     "output_type": "execute_result"
    }
   ],
   "source": [
    "x"
   ]
  },
  {
   "cell_type": "code",
   "execution_count": 8,
   "id": "f43db4df-d328-45d4-99e4-f16ba1639661",
   "metadata": {},
   "outputs": [
    {
     "name": "stdin",
     "output_type": "stream",
     "text": [
      "Rechnung eingeben 3\n"
     ]
    },
    {
     "data": {
      "text/plain": [
       "3"
      ]
     },
     "execution_count": 8,
     "metadata": {},
     "output_type": "execute_result"
    }
   ],
   "source": [
    "eval(input(\"Rechnung eingeben\"))"
   ]
  },
  {
   "cell_type": "code",
   "execution_count": 9,
   "id": "64edc95e-12cc-4f06-8983-4b3cabc76727",
   "metadata": {},
   "outputs": [
    {
     "name": "stdin",
     "output_type": "stream",
     "text": [
      "alter eingeben 3\n"
     ]
    },
    {
     "data": {
      "text/plain": [
       "3"
      ]
     },
     "execution_count": 9,
     "metadata": {},
     "output_type": "execute_result"
    }
   ],
   "source": [
    "eval(input(\"alter eingeben\"))"
   ]
  },
  {
   "cell_type": "code",
   "execution_count": 10,
   "id": "4f889fbf-ab19-4b70-8208-02b80882920e",
   "metadata": {},
   "outputs": [
    {
     "data": {
      "text/plain": [
       "'B'"
      ]
     },
     "execution_count": 10,
     "metadata": {},
     "output_type": "execute_result"
    }
   ],
   "source": [
    "#string zeichen arrays zugriff auf ein einzelnes zeichen in der zeichenkette\n",
    "antwort[0]"
   ]
  },
  {
   "cell_type": "code",
   "execution_count": 11,
   "id": "ea342a93-336a-40c1-ac22-8c76f319756b",
   "metadata": {},
   "outputs": [
    {
     "data": {
      "text/plain": [
       "'atn'"
      ]
     },
     "execution_count": 11,
     "metadata": {},
     "output_type": "execute_result"
    }
   ],
   "source": [
    "Name = \"anton\"\n",
    "Name[::2]\n",
    "#nimmt vom 0 bis zum letzen zeichen jedes zweite"
   ]
  },
  {
   "cell_type": "code",
   "execution_count": 12,
   "id": "477dbec4-0dfe-4f9e-9a19-5f566617e5aa",
   "metadata": {},
   "outputs": [
    {
     "data": {
      "text/plain": [
       "'n'"
      ]
     },
     "execution_count": 12,
     "metadata": {},
     "output_type": "execute_result"
    }
   ],
   "source": [
    "Name[-1]\n",
    "#letztes zeichen"
   ]
  },
  {
   "cell_type": "code",
   "execution_count": 13,
   "id": "0c6b7ddb-e62a-47bc-9221-6dd3f5acb02f",
   "metadata": {},
   "outputs": [
    {
     "data": {
      "text/plain": [
       "'behk'"
      ]
     },
     "execution_count": 13,
     "metadata": {},
     "output_type": "execute_result"
    }
   ],
   "source": [
    "Name1 = \"abcdefghijk\"\n",
    "Name1[1::3]\n",
    "#von zeichen eins und dann alle 3"
   ]
  },
  {
   "cell_type": "code",
   "execution_count": 14,
   "id": "de1b1de7-b242-49ba-9afd-b2549d2df4d8",
   "metadata": {},
   "outputs": [
    {
     "data": {
      "text/plain": [
       "'***'"
      ]
     },
     "execution_count": 14,
     "metadata": {},
     "output_type": "execute_result"
    }
   ],
   "source": [
    "#muliplizieren möglich dividieren nicht\n",
    "\"*\"* 3"
   ]
  },
  {
   "cell_type": "code",
   "execution_count": 15,
   "id": "cedc0561-629e-4431-8987-3aa49fbf028e",
   "metadata": {},
   "outputs": [
    {
     "data": {
      "text/plain": [
       "('Anton', 1)"
      ]
     },
     "execution_count": 15,
     "metadata": {},
     "output_type": "execute_result"
    }
   ],
   "source": [
    "#tab autoergänzung\n",
    "Name.capitalize(), Name.count('a')"
   ]
  },
  {
   "cell_type": "code",
   "execution_count": 16,
   "id": "1410c984-3048-4c39-94bb-24e1cc888cc2",
   "metadata": {},
   "outputs": [
    {
     "data": {
      "text/plain": [
       "['hello', 'world']"
      ]
     },
     "execution_count": 16,
     "metadata": {},
     "output_type": "execute_result"
    }
   ],
   "source": [
    "\"hello world\".split()"
   ]
  },
  {
   "cell_type": "code",
   "execution_count": 17,
   "id": "df130b97-ab26-4c28-9982-95b6088ea935",
   "metadata": {},
   "outputs": [
    {
     "data": {
      "text/plain": [
       "3"
      ]
     },
     "execution_count": 17,
     "metadata": {},
     "output_type": "execute_result"
    }
   ],
   "source": [
    "\"Dampfschiffunternehmensgesetztgebungen\".count('s')"
   ]
  },
  {
   "cell_type": "code",
   "execution_count": 18,
   "id": "7614ea53-30ec-415e-9545-48a70a930cbf",
   "metadata": {},
   "outputs": [
    {
     "data": {
      "text/plain": [
       "'test'"
      ]
     },
     "execution_count": 18,
     "metadata": {},
     "output_type": "execute_result"
    }
   ],
   "source": [
    "#\"Test\"[0] = 't' zeichen ketten lassen ersetzen nicht zu\n",
    "\"Test\".replace('T','t')\n",
    "# ersetzt alle T mit t"
   ]
  },
  {
   "cell_type": "code",
   "execution_count": 19,
   "id": "1dd310e4-20d3-422c-b8fe-952637adbd2f",
   "metadata": {},
   "outputs": [
    {
     "data": {
      "text/plain": [
       "'Hier steht die zahl 27 und die zahl 44.'"
      ]
     },
     "execution_count": 19,
     "metadata": {},
     "output_type": "execute_result"
    }
   ],
   "source": [
    "zahl = \"27\"\n",
    "zahl2 = \"44\"\n",
    "\"Hier steht die zahl {} und die zahl {}.\".format(zahl, zahl2)"
   ]
  },
  {
   "cell_type": "code",
   "execution_count": 20,
   "id": "d876cd83-a097-43f6-8dd2-e7ab5200f4db",
   "metadata": {},
   "outputs": [
    {
     "data": {
      "text/plain": [
       "'Hier steht die zahl 27.'"
      ]
     },
     "execution_count": 20,
     "metadata": {},
     "output_type": "execute_result"
    }
   ],
   "source": [
    "f'Hier steht die zahl {zahl}.'"
   ]
  },
  {
   "cell_type": "markdown",
   "id": "8be7ee76",
   "metadata": {},
   "source": [
    "### Aufgabe 2.1\n",
    "Schreiben Sie ein Programm, dass die Benutzer auffordert den Namen und danach das Alter einzugeben.\n",
    "\n",
    "Geben Sie anschließen einen freundlichen Gruß an den eingegebenen Namen aus."
   ]
  },
  {
   "cell_type": "code",
   "execution_count": 21,
   "id": "15ca5062-3f0e-457a-bbb5-bf839ba32eea",
   "metadata": {},
   "outputs": [
    {
     "name": "stdin",
     "output_type": "stream",
     "text": [
      "Geben sie ihren Namen ein:  4\n",
      "Geben sie ihr alter ein:  7\n"
     ]
    },
    {
     "data": {
      "text/plain": [
       "'Herzlich wilkommen 4'"
      ]
     },
     "execution_count": 21,
     "metadata": {},
     "output_type": "execute_result"
    }
   ],
   "source": [
    "name = input(\"Geben sie ihren Namen ein: \")\n",
    "alter = input(\"Geben sie ihr alter ein: \")\n",
    "\"Herzlich wilkommen {}\".format(name)"
   ]
  },
  {
   "cell_type": "markdown",
   "id": "0e273cd8",
   "metadata": {},
   "source": [
    "## Listen (list)\n",
    "\n",
    "Eine der einfachsten Arten, wie man Sequenzen in Python speichert. Ein Element der Liste kann ein beliebiges Python-Objekt sein:"
   ]
  },
  {
   "cell_type": "code",
   "execution_count": 35,
   "id": "aee60c66-bbff-4823-95ff-a5e51c5f9094",
   "metadata": {},
   "outputs": [
    {
     "name": "stdout",
     "output_type": "stream",
     "text": [
      "{3, 'hello', '0b101', 6.0}\n"
     ]
    }
   ],
   "source": [
    "li = [\"hello\", 3, 6.0, '0b101']\n",
    "print(l)"
   ]
  },
  {
   "cell_type": "code",
   "execution_count": 42,
   "id": "cfc65d66-0d10-46dd-928e-5c4419d6af31",
   "metadata": {},
   "outputs": [
    {
     "data": {
      "text/plain": [
       "['hello', 3, 6.0, '0b101', 12]"
      ]
     },
     "execution_count": 42,
     "metadata": {},
     "output_type": "execute_result"
    }
   ],
   "source": [
    "li"
   ]
  },
  {
   "cell_type": "code",
   "execution_count": 37,
   "id": "9b84c088-f542-4239-96cc-5c82efe8fdd7",
   "metadata": {},
   "outputs": [],
   "source": [
    "li.append(12)"
   ]
  },
  {
   "cell_type": "code",
   "execution_count": 38,
   "id": "9fe2d5f6-3ffb-4927-925b-380018598912",
   "metadata": {},
   "outputs": [
    {
     "data": {
      "text/plain": [
       "5"
      ]
     },
     "execution_count": 38,
     "metadata": {},
     "output_type": "execute_result"
    }
   ],
   "source": [
    "len(li)"
   ]
  },
  {
   "cell_type": "code",
   "execution_count": 40,
   "id": "d61ab506-05c0-4877-bd06-8b6318ada438",
   "metadata": {},
   "outputs": [
    {
     "data": {
      "text/plain": [
       "3"
      ]
     },
     "execution_count": 40,
     "metadata": {},
     "output_type": "execute_result"
    }
   ],
   "source": [
    "li[1] "
   ]
  },
  {
   "cell_type": "code",
   "execution_count": 41,
   "id": "4462eb1d-eb96-4a6f-aaf9-3d4bfbfb3a5b",
   "metadata": {},
   "outputs": [
    {
     "data": {
      "text/plain": [
       "['hello', 3, 6.0, '0b101', 12]"
      ]
     },
     "execution_count": 41,
     "metadata": {},
     "output_type": "execute_result"
    }
   ],
   "source": [
    "li"
   ]
  },
  {
   "cell_type": "code",
   "execution_count": 43,
   "id": "db3e8836-21cb-4795-9619-603d77a63540",
   "metadata": {},
   "outputs": [],
   "source": [
    "li.insert(2,\"Baum\")"
   ]
  },
  {
   "cell_type": "code",
   "execution_count": 45,
   "id": "fcea0a74-4c63-4002-a8a3-a4f825bce8a5",
   "metadata": {},
   "outputs": [
    {
     "data": {
      "text/plain": [
       "['hello', 3, 'Baum', 6.0, '0b101', 12]"
      ]
     },
     "execution_count": 45,
     "metadata": {},
     "output_type": "execute_result"
    }
   ],
   "source": [
    "li"
   ]
  },
  {
   "cell_type": "markdown",
   "id": "ebb8d41a",
   "metadata": {},
   "source": [
    "## Objekte in Python\n",
    "\n",
    "Fast alles in Python: Zahlen, Variablen, Konstanten, Funktionen, sind Objekte eines Types, die bestimmte Attribute besitzen können, und an denen bestimmte Methoden (Funktionen) angewandt werden können.\n",
    "\n",
    "Ein *Attribut* ist eine Eigenschaft, die abgefragt (get) oder dem Objekt gegeben (set) werden kann ``<Objekt_Name>.<Attribut_Name>``: z.B. ``komplexe_Zahl.imag``. \n",
    "\n",
    "Eine *Methode* ist eine Funktion, die auf dem Objekt angewandt werden kann, z.B. ``Liste.append(neues_Element)``.\n",
    "\n",
    "Um Methoden und Attribute eines Objekts kennenzulernen, kann man die TAB-Taste benutzen. \n",
    "Erst erstellen wir ein Objekt, z.B. eine Liste von vier Zahlen:\n",
    "\n",
    "    li = [6, 3, 2, 1]\n",
    "    \n",
    "Dann schreiben wir ``li.`` und drücken die TAB-Taste:     \n",
    "    \n",
    "    li.<TAB>\n",
    "\n",
    "So können wir alle Attribute und Methoden für ein Python ``list``-Objekt sehen.\n",
    "    \n",
    "\n",
    "    In [n]: li.\n",
    "    li.append   li.copy     li.extend   li.insert   li.remove   li.sort\n",
    "    li.clear    li.count    li.index    li.pop      li.reverse \n",
    "    \n",
    "Wenn man sehen will, was eine Methode macht, kann man das Fragezeichen benutzen:  \n",
    "    \n",
    "    In [m]: li.append?\n",
    "    Type:       builtin_function_or_method\n",
    "    String Form:<built-in method append of list object at 0x1027210e0>\n",
    "    Docstring:  L.append(object) -> None -- append object to end\n"
   ]
  },
  {
   "cell_type": "code",
   "execution_count": 48,
   "id": "cb778938-3e49-4243-8e6d-517df7e7150c",
   "metadata": {},
   "outputs": [
    {
     "data": {
      "text/plain": [
       "\u001b[1;31mSignature:\u001b[0m \u001b[0mli\u001b[0m\u001b[1;33m.\u001b[0m\u001b[0msort\u001b[0m\u001b[1;33m(\u001b[0m\u001b[1;33m*\u001b[0m\u001b[1;33m,\u001b[0m \u001b[0mkey\u001b[0m\u001b[1;33m=\u001b[0m\u001b[1;32mNone\u001b[0m\u001b[1;33m,\u001b[0m \u001b[0mreverse\u001b[0m\u001b[1;33m=\u001b[0m\u001b[1;32mFalse\u001b[0m\u001b[1;33m)\u001b[0m\u001b[1;33m\u001b[0m\u001b[1;33m\u001b[0m\u001b[0m\n",
       "\u001b[1;31mDocstring:\u001b[0m\n",
       "Sort the list in ascending order and return None.\n",
       "\n",
       "The sort is in-place (i.e. the list itself is modified) and stable (i.e. the\n",
       "order of two equal elements is maintained).\n",
       "\n",
       "If a key function is given, apply it once to each list item and sort them,\n",
       "ascending or descending, according to their function values.\n",
       "\n",
       "The reverse flag can be set to sort in descending order.\n",
       "\u001b[1;31mType:\u001b[0m      builtin_function_or_method"
      ]
     },
     "metadata": {},
     "output_type": "display_data"
    }
   ],
   "source": [
    "li.sort?"
   ]
  },
  {
   "cell_type": "markdown",
   "id": "958ef0af",
   "metadata": {},
   "source": [
    "### Aufgabe 2.2\n",
    "Folgendes Programm gibt die Wörter jeweils in einer neuen Zeile aus.\n",
    "```python\n",
    "print('eins')\n",
    "print('zwei')\n",
    "print('drei')\n",
    "print('vier')\n",
    "```\n",
    "Erweitern Sie (ohne etwas zu löschen, sie dürfen nur Code hinzufügen) das Programm so, dass alle Wörter in einer Zeile hintereinander ausgegeben werden. **Benutzen Sie dafür ein zusätzliches Argument der print-Funktion**."
   ]
  },
  {
   "cell_type": "code",
   "execution_count": 75,
   "id": "f8795f15-fb18-4030-af48-e46cacc551f0",
   "metadata": {},
   "outputs": [
    {
     "name": "stdout",
     "output_type": "stream",
     "text": [
      "eins zwei drei vier 3 Baum 7\n"
     ]
    },
    {
     "data": {
      "text/plain": [
       "\u001b[1;31mSignature:\u001b[0m \u001b[0mprint\u001b[0m\u001b[1;33m(\u001b[0m\u001b[1;33m*\u001b[0m\u001b[0margs\u001b[0m\u001b[1;33m,\u001b[0m \u001b[0msep\u001b[0m\u001b[1;33m=\u001b[0m\u001b[1;34m' '\u001b[0m\u001b[1;33m,\u001b[0m \u001b[0mend\u001b[0m\u001b[1;33m=\u001b[0m\u001b[1;34m'\\n'\u001b[0m\u001b[1;33m,\u001b[0m \u001b[0mfile\u001b[0m\u001b[1;33m=\u001b[0m\u001b[1;32mNone\u001b[0m\u001b[1;33m,\u001b[0m \u001b[0mflush\u001b[0m\u001b[1;33m=\u001b[0m\u001b[1;32mFalse\u001b[0m\u001b[1;33m)\u001b[0m\u001b[1;33m\u001b[0m\u001b[1;33m\u001b[0m\u001b[0m\n",
       "\u001b[1;31mDocstring:\u001b[0m\n",
       "Prints the values to a stream, or to sys.stdout by default.\n",
       "\n",
       "sep\n",
       "  string inserted between values, default a space.\n",
       "end\n",
       "  string appended after the last value, default a newline.\n",
       "file\n",
       "  a file-like object (stream); defaults to the current sys.stdout.\n",
       "flush\n",
       "  whether to forcibly flush the stream.\n",
       "\u001b[1;31mType:\u001b[0m      builtin_function_or_method"
      ]
     },
     "metadata": {},
     "output_type": "display_data"
    }
   ],
   "source": [
    "print('eins', end = ' ')\n",
    "print('zwei', end = ' ')\n",
    "print('drei', end = ' ')\n",
    "print('vier', end = ' ')\n",
    "print?\n",
    "print (3, 7, sep = ' Baum ')"
   ]
  },
  {
   "cell_type": "markdown",
   "id": "9988de91",
   "metadata": {},
   "source": [
    "### Aufgabe 2.3*\n",
    "Streichen Sie das Wort ``'foo'`` aus der unten gegebenen Zeichenkette:"
   ]
  },
  {
   "cell_type": "code",
   "execution_count": 90,
   "id": "7084551d",
   "metadata": {},
   "outputs": [],
   "source": [
    "k = \"Hallo, foo Welt\""
   ]
  },
  {
   "cell_type": "code",
   "execution_count": 91,
   "id": "552e03ee-8e5c-4d69-813c-ef5341032d85",
   "metadata": {},
   "outputs": [
    {
     "data": {
      "text/plain": [
       "'Hallo, Welt'"
      ]
     },
     "execution_count": 91,
     "metadata": {},
     "output_type": "execute_result"
    }
   ],
   "source": [
    "k.replace('foo ', '')"
   ]
  },
  {
   "cell_type": "code",
   "execution_count": 92,
   "id": "5f37e8ea-0893-48de-af26-0604b42cb32b",
   "metadata": {},
   "outputs": [],
   "source": [
    "#sohalb"
   ]
  },
  {
   "cell_type": "markdown",
   "id": "deb0ef31",
   "metadata": {},
   "source": [
    "### Aufgabe 2.4\n",
    "\n",
    "Finden Sie, wie oft der Buchstabe 'A' in der Zeichenkette ``s`` ier unten vorkommt:"
   ]
  },
  {
   "cell_type": "code",
   "execution_count": 27,
   "id": "ff184b38",
   "metadata": {},
   "outputs": [],
   "source": [
    "s = \"CAGTACCAAGTGAAAGAT\" #(ein Stück einer DNA-Sequenz)"
   ]
  },
  {
   "cell_type": "code",
   "execution_count": 66,
   "id": "01ef36ce-9115-40b9-b432-276a002f3940",
   "metadata": {},
   "outputs": [
    {
     "data": {
      "text/plain": [
       "8"
      ]
     },
     "execution_count": 66,
     "metadata": {},
     "output_type": "execute_result"
    }
   ],
   "source": [
    "s.count('A')"
   ]
  },
  {
   "cell_type": "markdown",
   "id": "5bb1faaa",
   "metadata": {},
   "source": [
    "### Aufgabe 2.5\n",
    "Erstellen Sie eine neue Liste aus den zwei unteren Listen, die die Elemente beider Listen beinhaltet."
   ]
  },
  {
   "cell_type": "code",
   "execution_count": 28,
   "id": "223c77c9",
   "metadata": {},
   "outputs": [],
   "source": [
    "a = [1, 2, 3]\n",
    "b = [4, 5, 6]"
   ]
  },
  {
   "cell_type": "code",
   "execution_count": 97,
   "id": "48b00248-0bf8-4d39-9022-c18146306188",
   "metadata": {},
   "outputs": [
    {
     "data": {
      "text/plain": [
       "[1, 2, 3, 4, 5, 6]"
      ]
     },
     "execution_count": 97,
     "metadata": {},
     "output_type": "execute_result"
    }
   ],
   "source": [
    "a + b"
   ]
  },
  {
   "cell_type": "markdown",
   "id": "43e989a2",
   "metadata": {},
   "source": [
    "## Dynamic typing\n",
    "\n",
    "Im Gegensatz zum \"static typing\" in anderen Sprachen (z.B. C), wo man Variablen erst zu einem bestimmtem Typ deklarieren muss, Python-Variablen sind eigentlich Zeiger auf Objekte und sie können auf unterschiedliche Objekte zeigen. Im Fach-Jargon sagt man dazu \"dynamic typing\"."
   ]
  },
  {
   "cell_type": "code",
   "execution_count": null,
   "id": "0f682622-107c-4fe4-9e5a-b1a0a575aaad",
   "metadata": {},
   "outputs": [],
   "source": []
  },
  {
   "cell_type": "code",
   "execution_count": null,
   "id": "c3a58dc9-010e-444b-8f9d-fa1d8adb4bac",
   "metadata": {},
   "outputs": [],
   "source": []
  },
  {
   "cell_type": "markdown",
   "id": "a969fe28",
   "metadata": {},
   "source": [
    "## Änderung des Types einer Variablen\n",
    "\n",
    "Es gibt viele Fälle, wo man von Integer zum Float oder String oder andersrum wechseln muss. In dem Fall benutzt man einfach die Funktionen ``float()``, ``str()`` und ``int()``:"
   ]
  },
  {
   "cell_type": "code",
   "execution_count": null,
   "id": "289225fc-d277-45b4-bbc3-aaaa7500207e",
   "metadata": {},
   "outputs": [],
   "source": []
  },
  {
   "cell_type": "code",
   "execution_count": null,
   "id": "27beec3d-103b-4329-9633-d08b13a193f9",
   "metadata": {},
   "outputs": [],
   "source": []
  },
  {
   "cell_type": "markdown",
   "id": "aec9c65b",
   "metadata": {},
   "source": [
    "## Welche Variablennamen man meiden soll..."
   ]
  },
  {
   "cell_type": "code",
   "execution_count": 29,
   "id": "0e5c3c4f",
   "metadata": {
    "scrolled": true
   },
   "outputs": [
    {
     "name": "stdout",
     "output_type": "stream",
     "text": [
      "['False', 'None', 'True', 'and', 'as', 'assert', 'async', 'await', 'break', 'class', 'continue', 'def', 'del', 'elif', 'else', 'except', 'finally', 'for', 'from', 'global', 'if', 'import', 'in', 'is', 'lambda', 'nonlocal', 'not', 'or', 'pass', 'raise', 'return', 'try', 'while', 'with', 'yield']\n"
     ]
    }
   ],
   "source": [
    "import keyword # Schlüsselworte\n",
    "print(keyword.kwlist)"
   ]
  },
  {
   "cell_type": "markdown",
   "id": "0dfc4dee",
   "metadata": {},
   "source": [
    "\n",
    "<center><b>Python Keywords </b></center>\n",
    "\n",
    "| Bedingte Anweisungen  |  | Schleifen |  | Eingebaute Funktionen | | Klassen,  Module, Funktionen |  | Fehlerbehandlung  |\n",
    "|-----------|--|-----------|--|-----------|--|------------|--|-----------|\n",
    "|  if       |  | for       |  | print     |  | class      |  | try       |\n",
    "|  else     |  | in        |  | pass      |  | def        |  | except    |\n",
    "|  elif     |  | while     |  | del       |  | global     |  | finally   |\n",
    "|  not      |  | break     |  | input     |  | lambda     |  | raise     |\n",
    "|  in       |  | as        |  |           |  | nonlocal   |  | assert    |\n",
    "|  or       |  | continue  |  |           |  | yield      |  | with      |\n",
    "|  and      |  |           |  |           |  | import     |  |           |\n",
    "|  is       |  |           |  |           |  | return     |  |           |\n",
    "|  True     |  |           |  |           |  | from       |  |           |\n",
    "|  False    |  |           |  |           |  |            |  |           |\n",
    "|  None     |  |           |  |           |  |            |  |           |\n",
    "|  match    |  |           |  |           |  |            |  |           |\n",
    "|  case     |  |           |  |           |  |            |  |           |\n"
   ]
  },
  {
   "cell_type": "code",
   "execution_count": null,
   "id": "95628880-1e4a-425e-a202-0f668f06b75c",
   "metadata": {},
   "outputs": [],
   "source": []
  },
  {
   "cell_type": "code",
   "execution_count": null,
   "id": "0d3f0322-d638-4404-8c35-7f52e4639653",
   "metadata": {},
   "outputs": [],
   "source": []
  }
 ],
 "metadata": {
  "kernelspec": {
   "display_name": "Python 3 (ipykernel)",
   "language": "python",
   "name": "python3"
  },
  "language_info": {
   "codemirror_mode": {
    "name": "ipython",
    "version": 3
   },
   "file_extension": ".py",
   "mimetype": "text/x-python",
   "name": "python",
   "nbconvert_exporter": "python",
   "pygments_lexer": "ipython3",
   "version": "3.12.7"
  }
 },
 "nbformat": 4,
 "nbformat_minor": 5
}
