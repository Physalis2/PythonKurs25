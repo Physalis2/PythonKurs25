{
 "cells": [
  {
   "cell_type": "markdown",
   "id": "05f39876",
   "metadata": {},
   "source": [
    "# Teil 7: Funktionen"
   ]
  },
  {
   "cell_type": "markdown",
   "id": "074de5a0",
   "metadata": {},
   "source": [
    "Eine Funktion ist ein Codeblock, der eine abgeschlossene Aufgabe erfüllt. \n",
    "\n",
    "Funktionen zerlegen ein komplexes Problem in mehrere, kleinere Teilprobleme. \n",
    "\n",
    "Funktionen sind ideal für Recycling (ein mal geschrieben, können sie oft verwenden werden).\n",
    "\n",
    "Funktionen haben immer einen **Namen**, können **Argumente** annehmen und **Rückgabewerte** zurückgeben. \n",
    "\n",
    "<!---In den Bibliotheken, die wir importieren, z.B. numpy, gibt es schon viele Funktionen, die wir verwenden können, z.B. die Funktion `np.mean()` hat den Namen `mean`, nimmt als Argument ein `array` (in den runden Klammern), und der Rückgabewert ist der berechnete `Mittelwert`. -->"
   ]
  },
  {
   "cell_type": "markdown",
   "id": "cf9dbf15",
   "metadata": {},
   "source": [
    "## Nutzen der bereitgestellten Funktionen"
   ]
  },
  {
   "cell_type": "markdown",
   "id": "fbfe3465",
   "metadata": {},
   "source": [
    "Eine [komplette Liste der bereitgestellten (built-in) Funktionen](http://docs.python.org/3/library/functions.html) findet man auf http://docs.python.org. Diese Liste ist ziemlich überschaubar. Die meisten Funktionen gibt es in Modulen, die man installieren und später importieren muss."
   ]
  },
  {
   "cell_type": "code",
   "execution_count": null,
   "id": "b3fd59d2-4b62-4778-90a5-57cbb90103d3",
   "metadata": {},
   "outputs": [],
   "source": []
  },
  {
   "cell_type": "code",
   "execution_count": null,
   "id": "b9c6f679-d664-4991-aa5f-caddc12a0ebb",
   "metadata": {},
   "outputs": [],
   "source": []
  },
  {
   "cell_type": "markdown",
   "id": "36ee0185",
   "metadata": {},
   "source": [
    "## Definieren eigener Funktionen\n",
    "\n",
    "Wenn Sie nun selbst eine Funktion schreiben wollen, funktioniert dies immer nach folgendem Muster:\n",
    "```python\n",
    "def funktion_name(Argumente):\n",
    "    # Code hier\n",
    "    return Rückgabewert\n",
    "```\n",
    "\n",
    "<font color='blue'> **Bitte beachten Sie den Doppelpunkt \n",
    "    und die Einrückungen danach!** </font>\n",
    "\n",
    "Ein Rückgabewert ist nicht zwingend notwendig, eine Funktion kann auch keinen Rückgabewert haben: *return None*.\n",
    "\n",
    "Ist die Funktion **ein mal definiert**, kann sie folgendermaßen **mehrmals verwendet** (abgerufen) werden:\n",
    "\n",
    "```python\n",
    "funktion_name(Argumente)\n",
    "```\n",
    "\n",
    "Die Namen der Argumente in der Definition kann man beliebig wählen, sie sollen allerdings nicht mit einer Zahl anfangen, wie immer in Python. Auf Sonderzeichen und Umlaute sollte man lieber verzichten. Die Argumentnamen muss man dann konsequent im Code der Definition verwenden.\n",
    "\n",
    "Bei Verwendung einer Funktion kann man als Argumente direkt Zahlen schreiben, oder auch Namen der Variablen, die man vorher im Programm definiert hat (globale Variablen). In der Funktion selbst kann man auch lokale Variablen definieren nd benutzen. Sie \"leben\" nur in der Funktion, und haben \"Vorfahrt\" vor den globalen Variablen. "
   ]
  },
  {
   "cell_type": "code",
   "execution_count": null,
   "id": "99167bb4-0ae6-4ec6-b3a3-482941ab6f26",
   "metadata": {},
   "outputs": [],
   "source": []
  },
  {
   "cell_type": "code",
   "execution_count": null,
   "id": "20d97754-f7a1-4584-8e64-228d30b72466",
   "metadata": {},
   "outputs": [],
   "source": []
  },
  {
   "cell_type": "markdown",
   "id": "8411e3b1",
   "metadata": {},
   "source": [
    "## Globale und lokale Variablen"
   ]
  },
  {
   "cell_type": "markdown",
   "id": "962cc6a2",
   "metadata": {},
   "source": [
    "Variablen, die außerhalb der Funktion definiert sind, gelten als **globale** Variablen. Man kann sie zwar innerhalb der Funktionen benutzen (ohne Sie oder Zeiger auf sie als Argument zu definieren) aber das kann gefährlich sein. Wenn man z.B. so eine Funktion in ein anderes Programm mitnimmt (aber nicht den Rest)"
   ]
  },
  {
   "cell_type": "code",
   "execution_count": null,
   "id": "8fe86e8a-bd81-4d28-9062-a024266110cd",
   "metadata": {},
   "outputs": [],
   "source": []
  },
  {
   "cell_type": "code",
   "execution_count": null,
   "id": "c9a92bef-f5c9-4f69-80e9-e36950544b77",
   "metadata": {},
   "outputs": [],
   "source": []
  },
  {
   "cell_type": "markdown",
   "id": "cbd8ce87",
   "metadata": {},
   "source": [
    "Eine lokale Variable hat die **\"Vorfahrt\"** vor einer globalen:"
   ]
  },
  {
   "cell_type": "code",
   "execution_count": null,
   "id": "526022ac-fce1-4b59-b429-a3f68a8223ca",
   "metadata": {},
   "outputs": [],
   "source": []
  },
  {
   "cell_type": "markdown",
   "id": "8e91e650-0754-4cee-9c12-6f6c77932984",
   "metadata": {},
   "source": [
    "## Anonyme Lambda-Funktion\n",
    "in einer Zeile geschrieben, kann mehrere Argumente annehmen, hat eine Ausgabe"
   ]
  },
  {
   "cell_type": "code",
   "execution_count": null,
   "id": "e2c9eb00-8ac2-4a4b-9428-94ee9082078d",
   "metadata": {},
   "outputs": [],
   "source": []
  },
  {
   "cell_type": "code",
   "execution_count": null,
   "id": "bacec5d5-35a7-4038-853c-e1ee5360140e",
   "metadata": {},
   "outputs": [],
   "source": []
  },
  {
   "cell_type": "markdown",
   "id": "d517d24d",
   "metadata": {},
   "source": [
    "## Aufgaben"
   ]
  },
  {
   "cell_type": "markdown",
   "id": "91786622",
   "metadata": {},
   "source": [
    "### Aufgabe 7.1\n",
    "\n",
    "Schreiben Sie eine Funktion, die eine Liste annimmt, und ein Mittelwert aller ihrer Werte ausgibt. Schauen Sie in https://docs.python.org/3/library/functions.html nach, welche Python-Funktionen nützlich sein können."
   ]
  },
  {
   "cell_type": "code",
   "execution_count": null,
   "id": "6853fec7-b839-486f-8805-da873850644a",
   "metadata": {},
   "outputs": [],
   "source": []
  },
  {
   "cell_type": "markdown",
   "id": "1b56df8a",
   "metadata": {},
   "source": [
    "### Aufgabe 7.2\n",
    "Schreiben Sie **eine** Funktion, die den Ersatzwiderstand zweier Widerstände R1 und R2 berechnet, je nach dem, ob es sich um eine Parallel- oder Reihenschaltung handelt. "
   ]
  },
  {
   "cell_type": "code",
   "execution_count": null,
   "id": "a0901b68-ba91-403a-b66c-1a9ee1185012",
   "metadata": {},
   "outputs": [],
   "source": []
  },
  {
   "cell_type": "markdown",
   "id": "e93da513",
   "metadata": {},
   "source": [
    "### Aufgabe 7.3\n",
    "Kopieren Sie Ihren Code, der Primzahlen rechnet. Machen Sie aus ihn eine Funktion, deren Ausgabewert True oder False ist, je nach dem, ob die gegebene Zahl eine Primzahl war oder nicht.  "
   ]
  },
  {
   "cell_type": "code",
   "execution_count": null,
   "id": "4b8ff281-4c4e-41a5-a66c-8d11cd638310",
   "metadata": {},
   "outputs": [],
   "source": []
  },
  {
   "cell_type": "markdown",
   "id": "01cd9c20",
   "metadata": {},
   "source": [
    "### Aufgabe 7.4*\n",
    "Kopieren Sie Ihren Code, der Fakultät rechnet. Schreiben Sie ihn in eine Funktion um. Versuchen Sie eine Funktion ohne Schleifen zu schreiben. Sie soll sich selbst aufrufen (in ihrem \"body\"): das ist ein Beispiel einer sog. \"rekursiven\" Funktion."
   ]
  },
  {
   "cell_type": "code",
   "execution_count": null,
   "id": "0943891c-6c27-4fb1-a2f8-1d0ff134972e",
   "metadata": {},
   "outputs": [],
   "source": []
  }
 ],
 "metadata": {
  "kernelspec": {
   "display_name": "Python 3 (ipykernel)",
   "language": "python",
   "name": "python3"
  },
  "language_info": {
   "codemirror_mode": {
    "name": "ipython",
    "version": 3
   },
   "file_extension": ".py",
   "mimetype": "text/x-python",
   "name": "python",
   "nbconvert_exporter": "python",
   "pygments_lexer": "ipython3",
   "version": "3.12.4"
  }
 },
 "nbformat": 4,
 "nbformat_minor": 5
}
