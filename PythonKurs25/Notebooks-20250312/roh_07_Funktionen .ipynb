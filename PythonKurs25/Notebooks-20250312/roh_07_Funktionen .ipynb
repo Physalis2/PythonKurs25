{
 "cells": [
  {
   "cell_type": "markdown",
   "id": "05f39876",
   "metadata": {},
   "source": [
    "# Teil 7: Funktionen"
   ]
  },
  {
   "cell_type": "markdown",
   "id": "074de5a0",
   "metadata": {},
   "source": [
    "Eine Funktion ist ein Codeblock, der eine abgeschlossene Aufgabe erfüllt. \n",
    "\n",
    "Funktionen zerlegen ein komplexes Problem in mehrere, kleinere Teilprobleme. \n",
    "\n",
    "Funktionen sind ideal für Recycling (ein mal geschrieben, können sie oft verwenden werden).\n",
    "\n",
    "Funktionen haben immer einen **Namen**, können **Argumente** annehmen und **Rückgabewerte** zurückgeben. \n",
    "\n",
    "<!---In den Bibliotheken, die wir importieren, z.B. numpy, gibt es schon viele Funktionen, die wir verwenden können, z.B. die Funktion `np.mean()` hat den Namen `mean`, nimmt als Argument ein `array` (in den runden Klammern), und der Rückgabewert ist der berechnete `Mittelwert`. -->"
   ]
  },
  {
   "cell_type": "markdown",
   "id": "cf9dbf15",
   "metadata": {},
   "source": [
    "## Nutzen der bereitgestellten Funktionen"
   ]
  },
  {
   "cell_type": "markdown",
   "id": "fbfe3465",
   "metadata": {},
   "source": [
    "Eine [komplette Liste der bereitgestellten (built-in) Funktionen](http://docs.python.org/3/library/functions.html) findet man auf http://docs.python.org. Diese Liste ist ziemlich überschaubar. Die meisten Funktionen gibt es in Modulen, die man installieren und später importieren muss."
   ]
  },
  {
   "cell_type": "code",
   "execution_count": 2,
   "id": "b3fd59d2-4b62-4778-90a5-57cbb90103d3",
   "metadata": {},
   "outputs": [],
   "source": [
    "l1 = [1,2,3,4,5,6,7,8,9,10]"
   ]
  },
  {
   "cell_type": "code",
   "execution_count": 3,
   "id": "b9c6f679-d664-4991-aa5f-caddc12a0ebb",
   "metadata": {},
   "outputs": [
    {
     "data": {
      "text/plain": [
       "(55, 10, 1)"
      ]
     },
     "execution_count": 3,
     "metadata": {},
     "output_type": "execute_result"
    }
   ],
   "source": [
    "sum(l1), max(l1), min(l1)"
   ]
  },
  {
   "cell_type": "markdown",
   "id": "36ee0185",
   "metadata": {},
   "source": [
    "## Definieren eigener Funktionen\n",
    "\n",
    "Wenn Sie nun selbst eine Funktion schreiben wollen, funktioniert dies immer nach folgendem Muster:\n",
    "```python\n",
    "def funktion_name(Argumente):\n",
    "    # Code hier\n",
    "    return Rückgabewert\n",
    "```\n",
    "\n",
    "<font color='blue'> **Bitte beachten Sie den Doppelpunkt \n",
    "    und die Einrückungen danach!** </font>\n",
    "\n",
    "Ein Rückgabewert ist nicht zwingend notwendig, eine Funktion kann auch keinen Rückgabewert haben: *return None*.\n",
    "\n",
    "Ist die Funktion **ein mal definiert**, kann sie folgendermaßen **mehrmals verwendet** (abgerufen) werden:\n",
    "\n",
    "```python\n",
    "funktion_name(Argumente)\n",
    "```\n",
    "\n",
    "Die Namen der Argumente in der Definition kann man beliebig wählen, sie sollen allerdings nicht mit einer Zahl anfangen, wie immer in Python. Auf Sonderzeichen und Umlaute sollte man lieber verzichten. Die Argumentnamen muss man dann konsequent im Code der Definition verwenden.\n",
    "\n",
    "Bei Verwendung einer Funktion kann man als Argumente direkt Zahlen schreiben, oder auch Namen der Variablen, die man vorher im Programm definiert hat (globale Variablen). In der Funktion selbst kann man auch lokale Variablen definieren nd benutzen. Sie \"leben\" nur in der Funktion, und haben \"Vorfahrt\" vor den globalen Variablen. "
   ]
  },
  {
   "cell_type": "code",
   "execution_count": 28,
   "id": "99167bb4-0ae6-4ec6-b3a3-482941ab6f26",
   "metadata": {},
   "outputs": [
    {
     "data": {
      "text/plain": [
       "((10, -2), -2)"
      ]
     },
     "execution_count": 28,
     "metadata": {},
     "output_type": "execute_result"
    }
   ],
   "source": [
    "def additionUndSubstration(a,b):\n",
    "    return a + b, a - b\n",
    "additionUndSubstration(4,6), additionUndSubstration(4,6)[1]"
   ]
  },
  {
   "cell_type": "code",
   "execution_count": 99,
   "id": "20d97754-f7a1-4584-8e64-228d30b72466",
   "metadata": {},
   "outputs": [],
   "source": [
    "def fakulttätNSchrittC(n, c):\n",
    "    erg = 1\n",
    "    for i in range(n, 1, -c):\n",
    "        erg *= i\n",
    "    return abs(erg)"
   ]
  },
  {
   "cell_type": "code",
   "execution_count": 100,
   "id": "0be4c847-3eba-4df2-88fe-e21e32c830c7",
   "metadata": {},
   "outputs": [
    {
     "data": {
      "text/plain": [
       "8"
      ]
     },
     "execution_count": 100,
     "metadata": {},
     "output_type": "execute_result"
    }
   ],
   "source": [
    "fakulttätNSchrittC(4,2)"
   ]
  },
  {
   "cell_type": "code",
   "execution_count": 34,
   "id": "0fc8c27c-d2fd-4dd1-99af-58a065324e8a",
   "metadata": {},
   "outputs": [],
   "source": [
    "def mach_A():\n",
    "    print(\"A\")\n",
    "def mach_B():\n",
    "    print(\"B\")\n",
    "def mach_AB():\n",
    "    mach_A()\n",
    "    mach_B()"
   ]
  },
  {
   "cell_type": "code",
   "execution_count": 39,
   "id": "20f6166c-9673-418e-af30-a3bd4a337b85",
   "metadata": {},
   "outputs": [
    {
     "name": "stdout",
     "output_type": "stream",
     "text": [
      "A\n",
      "B\n"
     ]
    }
   ],
   "source": [
    "mach_AB()"
   ]
  },
  {
   "cell_type": "markdown",
   "id": "8411e3b1",
   "metadata": {},
   "source": [
    "## Globale und lokale Variablen"
   ]
  },
  {
   "cell_type": "markdown",
   "id": "962cc6a2",
   "metadata": {},
   "source": [
    "Variablen, die außerhalb der Funktion definiert sind, gelten als **globale** Variablen. Man kann sie zwar innerhalb der Funktionen benutzen (ohne Sie oder Zeiger auf sie als Argument zu definieren) aber das kann gefährlich sein. Wenn man z.B. so eine Funktion in ein anderes Programm mitnimmt (aber nicht den Rest)"
   ]
  },
  {
   "cell_type": "code",
   "execution_count": 44,
   "id": "8fe86e8a-bd81-4d28-9062-a024266110cd",
   "metadata": {},
   "outputs": [
    {
     "name": "stdout",
     "output_type": "stream",
     "text": [
      "20\n"
     ]
    }
   ],
   "source": [
    "c = 20\n",
    "def druckC():\n",
    "    print(c)\n",
    "druckC()"
   ]
  },
  {
   "cell_type": "markdown",
   "id": "cbd8ce87",
   "metadata": {},
   "source": [
    "Eine lokale Variable hat die **\"Vorfahrt\"** vor einer globalen:"
   ]
  },
  {
   "cell_type": "code",
   "execution_count": 48,
   "id": "c9a92bef-f5c9-4f69-80e9-e36950544b77",
   "metadata": {},
   "outputs": [
    {
     "name": "stdout",
     "output_type": "stream",
     "text": [
      "20\n",
      "15\n",
      "20\n"
     ]
    }
   ],
   "source": [
    "def druckC2():\n",
    "    c = 15\n",
    "    print(c)\n",
    "druckC()\n",
    "druckC2()\n",
    "druckC()"
   ]
  },
  {
   "cell_type": "markdown",
   "id": "8e91e650-0754-4cee-9c12-6f6c77932984",
   "metadata": {},
   "source": [
    "## Anonyme Lambda-Funktion\n",
    "in einer Zeile geschrieben, kann mehrere Argumente annehmen, hat eine Ausgabe"
   ]
  },
  {
   "cell_type": "code",
   "execution_count": 63,
   "id": "e2c9eb00-8ac2-4a4b-9428-94ee9082078d",
   "metadata": {},
   "outputs": [],
   "source": [
    "def addiere(x, y):\n",
    "    return x + y"
   ]
  },
  {
   "cell_type": "code",
   "execution_count": 65,
   "id": "29accf8d-0226-49b6-946a-52a7a085edfb",
   "metadata": {},
   "outputs": [
    {
     "data": {
      "text/plain": [
       "9"
      ]
     },
     "execution_count": 65,
     "metadata": {},
     "output_type": "execute_result"
    }
   ],
   "source": [
    "addiere(5,4)"
   ]
  },
  {
   "cell_type": "code",
   "execution_count": 66,
   "id": "bacec5d5-35a7-4038-853c-e1ee5360140e",
   "metadata": {},
   "outputs": [],
   "source": [
    "addiere = lambda x, y: x - y"
   ]
  },
  {
   "cell_type": "code",
   "execution_count": 67,
   "id": "293a5f61-3cd5-4cb7-a426-3b13235fe2db",
   "metadata": {},
   "outputs": [
    {
     "data": {
      "text/plain": [
       "1"
      ]
     },
     "execution_count": 67,
     "metadata": {},
     "output_type": "execute_result"
    }
   ],
   "source": [
    "addiere(5,4)"
   ]
  },
  {
   "cell_type": "markdown",
   "id": "d517d24d",
   "metadata": {},
   "source": [
    "## Aufgaben"
   ]
  },
  {
   "cell_type": "markdown",
   "id": "91786622",
   "metadata": {},
   "source": [
    "### Aufgabe 7.1\n",
    "\n",
    "Schreiben Sie eine Funktion, die eine Liste annimmt, und ein Mittelwert aller ihrer Werte ausgibt. Schauen Sie in https://docs.python.org/3/library/functions.html nach, welche Python-Funktionen nützlich sein können."
   ]
  },
  {
   "cell_type": "code",
   "execution_count": 50,
   "id": "6853fec7-b839-486f-8805-da873850644a",
   "metadata": {},
   "outputs": [
    {
     "name": "stdout",
     "output_type": "stream",
     "text": [
      "[1, 2, 3, 4, 5, 6, 7, 8, 9]\n"
     ]
    }
   ],
   "source": [
    "def ausgabeListe(li):\n",
    "    print(li)\n",
    "summeListe([1,2,3,4,5,6,7,8,9])\n",
    "#woher weiss python das ich eine Liste eingeben will"
   ]
  },
  {
   "cell_type": "code",
   "execution_count": 68,
   "id": "6cb2bcdf-9c86-458e-a34a-71ecc24f711d",
   "metadata": {},
   "outputs": [
    {
     "data": {
      "text/plain": [
       "5.0"
      ]
     },
     "execution_count": 68,
     "metadata": {},
     "output_type": "execute_result"
    }
   ],
   "source": [
    "#was passiert wenn man Bustchstaben in der Liste hat und die summe berechnet\n",
    "def testListe(li):\n",
    "    return sum(li)/len(li)\n",
    "testListe([1,2,3,4,5,6,7,8,9])\n",
    "#Fehler meldung wenn ein string in der liste vorhanden ist"
   ]
  },
  {
   "cell_type": "markdown",
   "id": "1b56df8a",
   "metadata": {},
   "source": [
    "### Aufgabe 7.2\n",
    "Schreiben Sie **eine** Funktion, die den Ersatzwiderstand zweier Widerstände R1 und R2 berechnet, je nach dem, ob es sich um eine Parallel- oder Reihenschaltung handelt. "
   ]
  },
  {
   "cell_type": "code",
   "execution_count": 76,
   "id": "a0901b68-ba91-403a-b66c-1a9ee1185012",
   "metadata": {},
   "outputs": [],
   "source": [
    "def parallelUReihe(r1,r2,Schaltung):\n",
    "    if (Schaltung == \"r\") or (Schaltung == \"R\"):\n",
    "        return r1 + r2\n",
    "    elif (Schaltung == \"p\") or (Schaltung == \"P\"):\n",
    "        return ((r1**-1) + (r2**-1))**-1\n",
    "    else:\n",
    "        print(\"Geben sie r oder R für Reihe ein, Geben sie p oder P für Parralel ein\")"
   ]
  },
  {
   "cell_type": "code",
   "execution_count": 77,
   "id": "896ba88c-4781-4eae-b5c2-80e3abb9d1c2",
   "metadata": {},
   "outputs": [
    {
     "data": {
      "text/plain": [
       "(20, 5.0)"
      ]
     },
     "execution_count": 77,
     "metadata": {},
     "output_type": "execute_result"
    }
   ],
   "source": [
    "parallelUReihe(10,10,\"r\"), parallelUReihe(10,10,\"p\")"
   ]
  },
  {
   "cell_type": "markdown",
   "id": "e93da513",
   "metadata": {},
   "source": [
    "### Aufgabe 7.3\n",
    "Kopieren Sie Ihren Code, der Primzahlen rechnet. Machen Sie aus ihn eine Funktion, deren Ausgabewert True oder False ist, je nach dem, ob die gegebene Zahl eine Primzahl war oder nicht.  "
   ]
  },
  {
   "cell_type": "code",
   "execution_count": 80,
   "id": "5c998e45-0092-41a6-b922-800e65388a0e",
   "metadata": {},
   "outputs": [
    {
     "data": {
      "text/plain": [
       "[3,\n",
       " 5,\n",
       " 7,\n",
       " 11,\n",
       " 13,\n",
       " 17,\n",
       " 19,\n",
       " 23,\n",
       " 29,\n",
       " 31,\n",
       " 37,\n",
       " 41,\n",
       " 43,\n",
       " 47,\n",
       " 53,\n",
       " 59,\n",
       " 61,\n",
       " 67,\n",
       " 71,\n",
       " 73,\n",
       " 79,\n",
       " 83,\n",
       " 89,\n",
       " 97]"
      ]
     },
     "execution_count": 80,
     "metadata": {},
     "output_type": "execute_result"
    }
   ],
   "source": [
    "primZahlLi = []\n",
    "for i in range(2,101):\n",
    "    for x in range(2,i):\n",
    "        if (i % x == 0):\n",
    "            break\n",
    "        elif x == i - 1:\n",
    "            primZahlLi.append(i)\n",
    "primZahlLi"
   ]
  },
  {
   "cell_type": "code",
   "execution_count": 81,
   "id": "e2c5c755-7abe-462a-a528-cccb43211159",
   "metadata": {},
   "outputs": [],
   "source": [
    "def prüfePrimzahl(zahl):\n",
    "    primZahlLi = []\n",
    "    for i in range(2,zahl+1):\n",
    "        for x in range(2,i):\n",
    "            if (i % x == 0):\n",
    "                break\n",
    "            elif x == i - 1:\n",
    "                primZahlLi.append(i)\n",
    "    if primZahlLi[-1] == zahl:\n",
    "        print(\"Ist eine Primzahl\")\n",
    "    else:\n",
    "        print(\"Ist keine Primzahl\")"
   ]
  },
  {
   "cell_type": "code",
   "execution_count": 87,
   "id": "441dc7b2-d74b-42ba-b56c-e89ca1c140af",
   "metadata": {},
   "outputs": [
    {
     "name": "stdout",
     "output_type": "stream",
     "text": [
      "Ist eine Primzahl\n"
     ]
    }
   ],
   "source": [
    "prüfePrimzahl(71)"
   ]
  },
  {
   "cell_type": "markdown",
   "id": "01cd9c20",
   "metadata": {},
   "source": [
    "### Aufgabe 7.4*\n",
    "Kopieren Sie Ihren Code, der Fakultät rechnet. Schreiben Sie ihn in eine Funktion um. Versuchen Sie eine Funktion ohne Schleifen zu schreiben. Sie soll sich selbst aufrufen (in ihrem \"body\"): das ist ein Beispiel einer sog. \"rekursiven\" Funktion."
   ]
  },
  {
   "cell_type": "code",
   "execution_count": 98,
   "id": "0943891c-6c27-4fb1-a2f8-1d0ff134972e",
   "metadata": {},
   "outputs": [],
   "source": [
    "def fakulttätNSchrittC(n, c):\n",
    "    erg = 1\n",
    "    for i in range(n, 1, -c):\n",
    "        erg *= i\n",
    "    return abs(erg)"
   ]
  },
  {
   "cell_type": "code",
   "execution_count": 92,
   "id": "a0d4f5e2-92d1-415f-8e79-3b74515784e9",
   "metadata": {},
   "outputs": [],
   "source": [
    "def rekursiveFakultät(n):\n",
    "    if n == 1:\n",
    "        return 1\n",
    "    else:\n",
    "        return  rekursiveFakultät(n - 1) * n"
   ]
  },
  {
   "cell_type": "code",
   "execution_count": 93,
   "id": "9da603d6-76b4-4709-b6ef-e5a3792de8d5",
   "metadata": {},
   "outputs": [
    {
     "data": {
      "text/plain": [
       "24"
      ]
     },
     "execution_count": 93,
     "metadata": {},
     "output_type": "execute_result"
    }
   ],
   "source": [
    "rekursiveFakultät(4)"
   ]
  },
  {
   "cell_type": "code",
   "execution_count": 95,
   "id": "63ca21e0-e6fb-43e4-8996-7edca5039fc9",
   "metadata": {},
   "outputs": [
    {
     "data": {
      "text/plain": [
       "[[0, 0, 0, 0, 0],\n",
       " [0, 0, 0, 0, 0],\n",
       " [0, 0, 0, 0, 0],\n",
       " [0, 0, 0, 0, 0],\n",
       " [0, 0, 0, 0, 0]]"
      ]
     },
     "execution_count": 95,
     "metadata": {},
     "output_type": "execute_result"
    }
   ],
   "source": [
    "#Fort setzung array Matrix aus notebook 06\n",
    "breite = 5\n",
    "höhe = 5\n",
    "höhe2 = höhe\n",
    "array = []\n",
    "arrayLeer = []\n",
    "while höhe > 0:\n",
    "    array.append(arrayLeer.copy()) #muss copy sein da sonst alle arrays idetisch sind und wenn man array[2][3] verändert sind 2[n][3] auch anders\n",
    "    höhe -= 1\n",
    "while breite > 0:\n",
    "    x = 0\n",
    "    while x < höhe2:\n",
    "        array[x].append(0)\n",
    "        x += 1\n",
    "    breite -= 1\n",
    "array"
   ]
  },
  {
   "cell_type": "code",
   "execution_count": 97,
   "id": "d674c4f6-d5ac-4679-b56e-e81508835929",
   "metadata": {},
   "outputs": [],
   "source": [
    "#layer[] -> liste mit der anzal der neuronen in den einzelnen layern [2,4,4,2] -> 2 inputs 2 hiddenlayer mit 4 neuronen each, 2 outputs\n",
    "#neurons[][] -> liste die die position eines Neurons Bestimmt [x][y] x = layer in der man sich befindet, y = Neurony in der Layerx\n",
    "#weigths[][][] -> [x][y][z] z -> neuron in layer x + 1, da die Input Layer keine hinführenden Neuronen hat. y -> das neuron in der Layer vor dem Neuron Z"
   ]
  }
 ],
 "metadata": {
  "kernelspec": {
   "display_name": "Python 3 (ipykernel)",
   "language": "python",
   "name": "python3"
  },
  "language_info": {
   "codemirror_mode": {
    "name": "ipython",
    "version": 3
   },
   "file_extension": ".py",
   "mimetype": "text/x-python",
   "name": "python",
   "nbconvert_exporter": "python",
   "pygments_lexer": "ipython3",
   "version": "3.12.7"
  }
 },
 "nbformat": 4,
 "nbformat_minor": 5
}
