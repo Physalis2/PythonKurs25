{
 "cells": [
  {
   "cell_type": "markdown",
   "id": "8b7b5bbd",
   "metadata": {},
   "source": [
    "# Teil 8: Fehler und Ausnahmen \n",
    "errors and exceptions"
   ]
  },
  {
   "cell_type": "code",
   "execution_count": null,
   "id": "e86f1e63-fc65-4bfa-966b-306fd5981245",
   "metadata": {},
   "outputs": [],
   "source": []
  },
  {
   "cell_type": "code",
   "execution_count": null,
   "id": "aed18abb-8c49-4639-b344-476104f950d1",
   "metadata": {},
   "outputs": [],
   "source": []
  },
  {
   "cell_type": "markdown",
   "id": "67095207",
   "metadata": {},
   "source": [
    "## Debugger\n",
    "zum Nachschauen, was unter welcher Variablen steht.   \n",
    "debugger beenden mit ``exit``    \n",
    "Unter Jupyter notebook:"
   ]
  },
  {
   "cell_type": "code",
   "execution_count": null,
   "id": "e2650490",
   "metadata": {},
   "outputs": [],
   "source": [
    "%debug"
   ]
  },
  {
   "cell_type": "markdown",
   "id": "a986f53d",
   "metadata": {},
   "source": [
    "## ``try ... except`` Ausnahmen fangen (catching exceptions) und weitermachen\n",
    "\n",
    "Wenn wir wissen, dass bestimmte Fehler auftreten können, und nicht wollen, dass diese Fehler zum Crash führen. \n",
    "Z.B. wenn wir 100 Dateien herunterladen und ein paar von ihnen korrupt sind, dann wollen wir auf sie verzichten.\n",
    "Das Programm wird danach weiter laufen."
   ]
  },
  {
   "cell_type": "code",
   "execution_count": null,
   "id": "12a51f84-56aa-43be-aa5c-ea7059438790",
   "metadata": {},
   "outputs": [],
   "source": []
  },
  {
   "cell_type": "markdown",
   "id": "b1e1e9b3",
   "metadata": {},
   "source": [
    "## ``raise error`` Programm unterbrechen\n",
    "statt mit ``try...except`` weiter zu gehen (und später möglicherweise komische Ergebnisse zu bekommen), selbst ein Programm mit ``raise Exception`` unterbrechen"
   ]
  },
  {
   "cell_type": "code",
   "execution_count": null,
   "id": "d5ba3aad-8edb-48f8-bc63-6b36af4a42c6",
   "metadata": {},
   "outputs": [],
   "source": []
  }
 ],
 "metadata": {
  "kernelspec": {
   "display_name": "Python 3 (ipykernel)",
   "language": "python",
   "name": "python3"
  },
  "language_info": {
   "codemirror_mode": {
    "name": "ipython",
    "version": 3
   },
   "file_extension": ".py",
   "mimetype": "text/x-python",
   "name": "python",
   "nbconvert_exporter": "python",
   "pygments_lexer": "ipython3",
   "version": "3.12.4"
  }
 },
 "nbformat": 4,
 "nbformat_minor": 5
}
