{
 "cells": [
  {
   "cell_type": "markdown",
   "id": "8b7b5bbd",
   "metadata": {},
   "source": [
    "# Teil 8: Fehler und Ausnahmen \n",
    "errors and exceptions"
   ]
  },
  {
   "cell_type": "code",
   "execution_count": 1,
   "id": "e86f1e63-fc65-4bfa-966b-306fd5981245",
   "metadata": {},
   "outputs": [],
   "source": [
    "a = \"Hello\"\n",
    "#a[0] = 'a\n",
    "#type error, da für string nicht erlaubt aber für z.B. Listen schon"
   ]
  },
  {
   "cell_type": "code",
   "execution_count": 5,
   "id": "f89d884a-17d2-4231-9b57-9de2fd83d33a",
   "metadata": {},
   "outputs": [
    {
     "name": "stdout",
     "output_type": "stream",
     "text": [
      "geht nicht\n",
      "programm läuft trozdem Weiter\n"
     ]
    }
   ],
   "source": [
    "try:\n",
    "    a[0] = 'a'\n",
    "except:\n",
    "    print(\"geht nicht\")\n",
    "print(\"programm läuft trozdem Weiter\")"
   ]
  },
  {
   "cell_type": "markdown",
   "id": "67095207",
   "metadata": {},
   "source": [
    "## Debugger\n",
    "zum Nachschauen, was unter welcher Variablen steht.   \n",
    "debugger beenden mit ``exit``    \n",
    "Unter Jupyter notebook:"
   ]
  },
  {
   "cell_type": "code",
   "execution_count": 9,
   "id": "e2650490",
   "metadata": {},
   "outputs": [
    {
     "name": "stdout",
     "output_type": "stream",
     "text": [
      "> \u001b[1;32mc:\\users\\student\\appdata\\local\\temp\\ipykernel_5792\\2049417381.py\u001b[0m(3)\u001b[0;36m<module>\u001b[1;34m()\u001b[0m\n",
      "\n"
     ]
    },
    {
     "name": "stdin",
     "output_type": "stream",
     "text": [
      "ipdb>  a\n",
      "ipdb>  a\n",
      "ipdb>  c\n"
     ]
    },
    {
     "ename": "TypeError",
     "evalue": "'int' object does not support item assignment",
     "output_type": "error",
     "traceback": [
      "\u001b[1;31m---------------------------------------------------------------------------\u001b[0m",
      "\u001b[1;31mTypeError\u001b[0m                                 Traceback (most recent call last)",
      "Cell \u001b[1;32mIn[9], line 3\u001b[0m\n\u001b[0;32m      1\u001b[0m a \u001b[38;5;241m=\u001b[39m \u001b[38;5;241m1\u001b[39m\n\u001b[0;32m      2\u001b[0m get_ipython()\u001b[38;5;241m.\u001b[39mrun_line_magic(\u001b[38;5;124m'\u001b[39m\u001b[38;5;124mdebug\u001b[39m\u001b[38;5;124m'\u001b[39m, \u001b[38;5;124m'\u001b[39m\u001b[38;5;124m'\u001b[39m)\n\u001b[1;32m----> 3\u001b[0m a[\u001b[38;5;241m0\u001b[39m] \u001b[38;5;241m=\u001b[39m \u001b[38;5;124m'\u001b[39m\u001b[38;5;124ma\u001b[39m\u001b[38;5;124m'\u001b[39m\n",
      "\u001b[1;31mTypeError\u001b[0m: 'int' object does not support item assignment"
     ]
    }
   ],
   "source": [
    "%debug"
   ]
  },
  {
   "cell_type": "markdown",
   "id": "a986f53d",
   "metadata": {},
   "source": [
    "## ``try ... except`` Ausnahmen fangen (catching exceptions) und weitermachen\n",
    "\n",
    "Wenn wir wissen, dass bestimmte Fehler auftreten können, und nicht wollen, dass diese Fehler zum Crash führen. \n",
    "Z.B. wenn wir 100 Dateien herunterladen und ein paar von ihnen korrupt sind, dann wollen wir auf sie verzichten.\n",
    "Das Programm wird danach weiter laufen."
   ]
  },
  {
   "cell_type": "code",
   "execution_count": 10,
   "id": "12a51f84-56aa-43be-aa5c-ea7059438790",
   "metadata": {},
   "outputs": [
    {
     "name": "stdout",
     "output_type": "stream",
     "text": [
      "geht nicht\n",
      "programm läuft trozdem Weiter\n"
     ]
    }
   ],
   "source": [
    "try:\n",
    "    a[0] = 'a'\n",
    "except:\n",
    "    print(\"geht nicht\")\n",
    "print(\"programm läuft trozdem Weiter\")"
   ]
  },
  {
   "cell_type": "markdown",
   "id": "b1e1e9b3",
   "metadata": {},
   "source": [
    "## ``raise error`` Programm unterbrechen\n",
    "statt mit ``try...except`` weiter zu gehen (und später möglicherweise komische Ergebnisse zu bekommen), selbst ein Programm mit ``raise Exception`` unterbrechen"
   ]
  },
  {
   "cell_type": "code",
   "execution_count": 17,
   "id": "d5ba3aad-8edb-48f8-bc63-6b36af4a42c6",
   "metadata": {},
   "outputs": [
    {
     "ename": "TypeError",
     "evalue": "Nur positive int erlaubt",
     "output_type": "error",
     "traceback": [
      "\u001b[1;31m---------------------------------------------------------------------------\u001b[0m",
      "\u001b[1;31mTypeError\u001b[0m                                 Traceback (most recent call last)",
      "Cell \u001b[1;32mIn[17], line 4\u001b[0m\n\u001b[0;32m      1\u001b[0m x \u001b[38;5;241m=\u001b[39m \u001b[38;5;124m\"\u001b[39m\u001b[38;5;124mHello\u001b[39m\u001b[38;5;124m\"\u001b[39m\n\u001b[0;32m      3\u001b[0m \u001b[38;5;28;01mif\u001b[39;00m \u001b[38;5;129;01mnot\u001b[39;00m  \u001b[38;5;28mtype\u001b[39m(x) \u001b[38;5;129;01mis\u001b[39;00m \u001b[38;5;28mint\u001b[39m:\n\u001b[1;32m----> 4\u001b[0m     \u001b[38;5;28;01mraise\u001b[39;00m \u001b[38;5;167;01mTypeError\u001b[39;00m(\u001b[38;5;124m\"\u001b[39m\u001b[38;5;124mNur positive int erlaubt\u001b[39m\u001b[38;5;124m\"\u001b[39m)\n",
      "\u001b[1;31mTypeError\u001b[0m: Nur positive int erlaubt"
     ]
    }
   ],
   "source": [
    "x = \"Hello\"\n",
    "\n",
    "if not  type(x) is int:\n",
    "    raise TypeError(\"Nur positive int erlaubt\")"
   ]
  }
 ],
 "metadata": {
  "kernelspec": {
   "display_name": "Python 3 (ipykernel)",
   "language": "python",
   "name": "python3"
  },
  "language_info": {
   "codemirror_mode": {
    "name": "ipython",
    "version": 3
   },
   "file_extension": ".py",
   "mimetype": "text/x-python",
   "name": "python",
   "nbconvert_exporter": "python",
   "pygments_lexer": "ipython3",
   "version": "3.12.7"
  }
 },
 "nbformat": 4,
 "nbformat_minor": 5
}
