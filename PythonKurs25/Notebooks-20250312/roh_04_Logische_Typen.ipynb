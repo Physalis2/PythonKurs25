{
 "cells": [
  {
   "cell_type": "markdown",
   "id": "88ffcf37",
   "metadata": {},
   "source": [
    "# Teil 4: Grundtypen \"bool\" und \"None\" "
   ]
  },
  {
   "cell_type": "markdown",
   "id": "157a1d17",
   "metadata": {},
   "source": [
    "Typ \"bool\": ein der einfachsten Typen in Python. Hat nur zwei Werte ``True`` oder ``False``. Sie werden **immer mit großem T und F** geschrieben!   \n",
    "\n",
    "<font color='red'> **Dieser Typ ist sehr wichtig für Schleifen und Bedingungen!** </font>   \n",
    "\n",
    "Vergleichsoperationen geben boolschen Typ raus:"
   ]
  },
  {
   "cell_type": "markdown",
   "id": "1ebcd7d2",
   "metadata": {},
   "source": [
    "## Vergleichsoperatoren\n",
    "\n",
    "\n",
    "| Operation| Beschreibung             | | Operation| Beschreibung            |\n",
    "|----------|--------------------------|-|----------|-------------------------|\n",
    "|``a == b``|``a`` gleich ``b``        | |``a != b``|``a`` ungleich ``b``     |\n",
    "|``a < b`` |``a`` kleiner ``b``       | |``a > b`` |``a`` größer ``b``       |\n",
    "|``a <= b``|``a`` kleiner gleich ``b``| |``a >= b``|``a`` größer gleich ``b``|\n",
    "\n",
    "Die Operationen können mit arithmetischen oder bitweise Operationen kombiniert werden.    \n",
    "Z.B. um zu prüfen, ob eine Zahl ungerade ist, prüft man, ob ihr Rest vom Teilen durch 2 bleibt 1:"
   ]
  },
  {
   "cell_type": "code",
   "execution_count": null,
   "id": "c652e82f-9e0c-4f9b-a25e-62f3b8523206",
   "metadata": {},
   "outputs": [],
   "source": []
  },
  {
   "cell_type": "code",
   "execution_count": null,
   "id": "71dde730-ea82-479b-9722-b3513ca0e4c5",
   "metadata": {},
   "outputs": [],
   "source": []
  },
  {
   "cell_type": "markdown",
   "id": "bfc1b279",
   "metadata": {},
   "source": [
    "## Boolsche Operatoren: ``and``, ``or`` und ``not``.\n",
    "Man kann boolsche Operatoren **and**, **or** und **not** an boolschen Werten anwenden, um neue boolschen Werte zu erzeugen:"
   ]
  },
  {
   "cell_type": "code",
   "execution_count": null,
   "id": "ca8eddb7-6c07-4132-b0f1-df51771693b2",
   "metadata": {},
   "outputs": [],
   "source": []
  },
  {
   "cell_type": "code",
   "execution_count": null,
   "id": "e181ef0c-8f7e-4cd7-812a-156096fa925f",
   "metadata": {},
   "outputs": [],
   "source": []
  },
  {
   "cell_type": "markdown",
   "id": "cc62d90d",
   "metadata": {},
   "source": [
    "Boolsche Werte kann man auch mit Hilfe von ``bool()`` Konstruktor aus anderen Typen erzeugen.     \n",
    "Ein Rezept: numerische Typen werden nur zu False, wenn sie Null sind:"
   ]
  },
  {
   "cell_type": "code",
   "execution_count": null,
   "id": "18f29147-3e97-457f-b6bf-18b0eb82d6bb",
   "metadata": {},
   "outputs": [],
   "source": []
  },
  {
   "cell_type": "code",
   "execution_count": null,
   "id": "6e12bc59-5e75-4c0b-a337-b91de78c3452",
   "metadata": {},
   "outputs": [],
   "source": []
  },
  {
   "cell_type": "markdown",
   "id": "824b4f3b",
   "metadata": {},
   "source": [
    "bool von Zeichenketten, Listen ist ``False`` nur, wenn sie leer sind. Ansonsten ``True``."
   ]
  },
  {
   "cell_type": "markdown",
   "id": "97d60aa8",
   "metadata": {},
   "source": [
    "### Aufgabe 4.1\n",
    "\n",
    "Schreiben Sie ein Ausdruck, der ``True`` gibt, wenn ``x`` größer als 3.14 ist und gleichzeitig kleiner oder gleich 6.67, oder wenn es gleich 3 ist.   \n",
    "Ändern Sie ``x``, um zu schauen, ob Ihr Ausdruck richtig funktioniert. "
   ]
  },
  {
   "cell_type": "code",
   "execution_count": null,
   "id": "d4ab6077-10b1-4e76-9cfb-d4307a63002b",
   "metadata": {},
   "outputs": [],
   "source": []
  },
  {
   "cell_type": "markdown",
   "id": "9ca138ba",
   "metadata": {},
   "source": [
    "## Operator XOR (entweder oder)\n",
    "gibt es in Python nicht. Man kann ihn aber konstruieren, z.B."
   ]
  },
  {
   "cell_type": "code",
   "execution_count": null,
   "id": "dd7187a8-11db-4071-9ba9-01311951bc4b",
   "metadata": {},
   "outputs": [],
   "source": []
  },
  {
   "cell_type": "markdown",
   "id": "152fe8f7",
   "metadata": {},
   "source": [
    "<font color='blue'><b>Manchmal weiß man nicht, wann man boolsche Operatoren (``and``, ``or``, ``not``) und wann die bitweise Operatoren  (``&``, ``|``, ``~``) benutzen soll. Die Antwort liegt in den Namen:            \n",
    "Boolsche Operatoren soll man benutzen, wenn man boolsche Werte (wahr oder falsch) von ganzen Sätzen haben will.      \n",
    "Bitweise Operationen soll man benutzen, wenn man an einzelnen Bits oder Komponenten interessiert ist.</b></font>   \n",
    "\n",
    "<font color='red'><b>Achtung!    \n",
    "    Reihenfolge der Operationen!   \n",
    "    Computerprogramme haben eine eingebaute Reihenfolge der Operationen, ähnlich wie Sie diese bereits aus der Schule kennen, z.B. \"Punkt vor Strich\".   \n",
    "        Bitweise Operationen haben eine höhere Stelle als Vergleichoperationen (werden davor ausgeführt), boolsche Operationen dagegen eine niedrigere Stelle: sie werden zum Schluss ausgeführt!   \n",
    "    Mehr darüber z.B. in https://cito.github.io/byte_of_python/read/operator-precedence.html\n",
    "</b></font>      \n",
    "    Um sicherzustellen, dass Ihre Operationen in der richtigen Reihenfolge ausgeführt werden, nutzen Sie im Zweifelsfall Klammern.   \n",
    "     Hier ein Beispiel, was schief laufen kann:"
   ]
  },
  {
   "cell_type": "code",
   "execution_count": null,
   "id": "a888eb37-b697-4f1c-a4a6-8919f14f69d9",
   "metadata": {},
   "outputs": [],
   "source": []
  },
  {
   "cell_type": "code",
   "execution_count": null,
   "id": "78148fc9-fe8e-4fad-a127-533bdaced7f8",
   "metadata": {},
   "outputs": [],
   "source": []
  },
  {
   "cell_type": "markdown",
   "id": "c4e29a0f",
   "metadata": {},
   "source": [
    "## Identity and Membership Operatoren\n",
    "\n",
    "Ähnlich wie ``and``, ``or``, and ``not``, Python hat Prose-ähnliche Operatoren, um Identität und Zugehörigkeit zu prüfen.\n",
    "\n",
    "| Operator      | Beschreibung                                            |\n",
    "|---------------|---------------------------------------------------------|\n",
    "| ``a is b``    | Wahr wenn ``a`` und ``b`` sind identische Objekte       |\n",
    "| ``a is not b``| Wahr wenn ``a`` und ``b`` sind keine identische Objekte |\n",
    "| ``a in b``    | Wahr wenn ``a`` gehört zu ``b``                         |\n",
    "| ``a not in b``| Wahr wenn ``a`` gehört nicht zu  ``b``                  |"
   ]
  },
  {
   "cell_type": "markdown",
   "id": "e4992565",
   "metadata": {},
   "source": [
    "Operatoren der Identität, \"``is``\" und \"``is not``\" prüfen die *Objekt-Identität*.\n",
    "Objekt-Identität ist von der Gleichheit zu Unterscheiden:"
   ]
  },
  {
   "cell_type": "code",
   "execution_count": null,
   "id": "8bf1041e-a10f-4e13-a51f-1cf4011ba5ee",
   "metadata": {},
   "outputs": [],
   "source": []
  },
  {
   "cell_type": "code",
   "execution_count": null,
   "id": "5d6c5fa5-beec-44e3-b7a0-ce551e055044",
   "metadata": {},
   "outputs": [],
   "source": []
  },
  {
   "cell_type": "markdown",
   "id": "db65a83f",
   "metadata": {},
   "source": [
    "Wie sehen denn zwei identische Objekte aus?"
   ]
  },
  {
   "cell_type": "markdown",
   "id": "a3cc3384",
   "metadata": {},
   "source": [
    "Membership (Zugehörigkeit) Operatoren prüfen die Zugehörigkeit eines Objektes zum einem compound/collection Objekt (string, list, tuple, set), z.B.: "
   ]
  },
  {
   "cell_type": "markdown",
   "id": "d5982a5f",
   "metadata": {},
   "source": [
    "Diese 'Prosa-ähnliche' Operatoren (und einfacher Syntax) machen python einfach im Vergleich zu z.B. C, wo man erst eine Schleife über alle Elemente bauen musste."
   ]
  },
  {
   "cell_type": "markdown",
   "id": "ec75aa9e",
   "metadata": {},
   "source": [
    "## Typ `None`"
   ]
  },
  {
   "cell_type": "markdown",
   "id": "8c0ed164",
   "metadata": {},
   "source": [
    "Wird als Rückgabewert einer Funktion gegeben, wenn sie nichts zurückgibt, z.B. `print`"
   ]
  },
  {
   "cell_type": "code",
   "execution_count": null,
   "id": "d0ac357d-c897-4c80-beff-3c21f9ce9bc8",
   "metadata": {},
   "outputs": [],
   "source": []
  },
  {
   "cell_type": "code",
   "execution_count": null,
   "id": "2d074a19-9d61-491d-a19a-52b5e3e13e95",
   "metadata": {},
   "outputs": [],
   "source": []
  }
 ],
 "metadata": {
  "kernelspec": {
   "display_name": "Python 3 (ipykernel)",
   "language": "python",
   "name": "python3"
  },
  "language_info": {
   "codemirror_mode": {
    "name": "ipython",
    "version": 3
   },
   "file_extension": ".py",
   "mimetype": "text/x-python",
   "name": "python",
   "nbconvert_exporter": "python",
   "pygments_lexer": "ipython3",
   "version": "3.12.4"
  }
 },
 "nbformat": 4,
 "nbformat_minor": 5
}
