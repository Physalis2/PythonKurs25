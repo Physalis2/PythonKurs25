{
 "cells": [
  {
   "cell_type": "markdown",
   "id": "67955f90",
   "metadata": {},
   "source": [
    "# Teil 11: Daten auswerten mit scipy "
   ]
  },
  {
   "cell_type": "markdown",
   "id": "f570fcf6",
   "metadata": {},
   "source": [
    "## Bibliotheken importieren"
   ]
  },
  {
   "cell_type": "code",
   "execution_count": null,
   "id": "118e57d9",
   "metadata": {},
   "outputs": [],
   "source": [
    "import numpy as np\n",
    "import matplotlib.pyplot as plt\n",
    "from scipy.optimize import curve_fit"
   ]
  },
  {
   "cell_type": "markdown",
   "id": "50a055e1",
   "metadata": {},
   "source": [
    "## Daten laden"
   ]
  },
  {
   "cell_type": "markdown",
   "id": "826a8cd6",
   "metadata": {},
   "source": [
    "Falls Sie Probleme mit den Daten laden haben, weil Python der Meinung ist, dass Sie Zeichenketten statt Zahlen in Ihrer Datei haben (z.B. Komma als Komma, statt Punkt), dann können Sie das Problem umgehen.  \n",
    "Sie laden die Daten als Zeichenketten (Option `dtype = 'str'`), dannach tauschen Sie , gegen . mit `np.char.replace(data,',','.')` und das ganze speichern Sie als float mit `astype(float)`  \n",
    "\n",
    "```python\n",
    "data=np.loadtxt('data/Fremont_Bridge_Bicycle_Counter_weekly.csv', dtype='str', skiprows=1 )\n",
    "data = np.char.replace(data,',','.').astype(float)\n",
    "```"
   ]
  },
  {
   "cell_type": "code",
   "execution_count": null,
   "id": "18d0bb9f-9203-40d8-be63-b8a2479f8e96",
   "metadata": {},
   "outputs": [],
   "source": []
  },
  {
   "cell_type": "markdown",
   "id": "0a497087",
   "metadata": {},
   "source": [
    "## Fit-Funktion definieren\n",
    "\n",
    "Um eine Funktion an die Daten anzupassen, müssen wir sie erst definieren. In den Argmenten der Funktion muss erst die unabhängige Variable stehen, und weiter die Parameter, die optimiert werden sollen. \n",
    "\n",
    "Welche Funktion wir anpassen können, hängt vom theoretischen Modell ab. "
   ]
  },
  {
   "cell_type": "code",
   "execution_count": null,
   "id": "29abefdd-ee89-4ac6-adc4-00a23b86a022",
   "metadata": {},
   "outputs": [],
   "source": []
  },
  {
   "cell_type": "markdown",
   "id": "ebca3333",
   "metadata": {},
   "source": [
    "## Funktions-Fit mit Scipy"
   ]
  },
  {
   "cell_type": "markdown",
   "id": "d62e74ab",
   "metadata": {},
   "source": [
    "Um Kurven zu Daten anzupassen, bedienen wir uns aus einer weiteren mächtigen Python-Bibliothek, genannt `Scipy`. Diese Bibliothek ist für wissenschaftliche Zwecke sehr gut geeignet. Wir brauchen aus ihrem Modul `optimize` die Methode `curve_fit`, die wir zuerst importieren müssen: "
   ]
  },
  {
   "cell_type": "code",
   "execution_count": null,
   "id": "3da6ae76",
   "metadata": {},
   "outputs": [],
   "source": [
    "curve_fit?"
   ]
  },
  {
   "cell_type": "markdown",
   "id": "8cd6c9ae",
   "metadata": {},
   "source": [
    "Mit `curve_fit?` schauen wir an, welche Argumente gebraucht werden: \n",
    "1. die `f` Fit-Funktion (hier: unsere Sinusoide. WICHTIG! in der Funktion steht die unabhängige Variable als erstes Argument!), \n",
    "2. `xdata` (hier: Zeit, erste Spalte von data), \n",
    "3. `ydata` (Daten zum Anpassen, z.B. zweite oder dritte Spalten von data). Beide letzten müssen die gleiche Länge haben.\n",
    "4. `p0`, Anfangsparamter. Es ist ratsam `sinvolle Anfangsparamter` zu geben, sonst startet die `curve_fit`-Funktion mit 1, was manchmal zu unsinngen Ergebnissen oder gar keinem Fit führen kann.\n",
    "5. weitere Parameter\n",
    "\n",
    "und welche Größen `curve_fit` ausgibt:\n",
    "1. `popt` optimal angepasste Parameter in der Reihnfolge, wie sie in der Fit-Funktion definiert wurden,\n",
    "2. `pcov` Kovarianz-Matrix, aus der man die Standardabweichung der Paramtern holen kann: `np.sqrt(np.diag(pcov))`"
   ]
  },
  {
   "cell_type": "code",
   "execution_count": null,
   "id": "fce741dc-2180-497c-8427-cc20765839e6",
   "metadata": {},
   "outputs": [],
   "source": []
  },
  {
   "cell_type": "markdown",
   "id": "14876e25",
   "metadata": {},
   "source": [
    "### Daten und Fit plotten\n",
    "\n",
    "Die angepassen Parameter übergeben wir der Fit-Funktion in der Form `fit_funktion(xdata, *poptS)`. `*` vor `poptS` entpackt die optimalen Argumente der Fit-Funktion, die `curve_fit` gefunden hat.\n",
    "\n",
    "> <font color='blue'> **Hinweis**</font> \n",
    ">\n",
    ">Damit man den gesuchten Parameter (z.B. `poptS[1]`) bereits in der Grafik erkennt, schreiben wir ihn und seine Standardabweichung `perrS[1]` in die Legende.\n",
    "Da beide Zahlen sehr lang sind, und es kein Sinn hat, eine Standardabweichung mit mehr als 2 signifikanten Stellen anzugeben, schneiden wir die Zahlen nach 4 bzw. 2 signifikanten Stellen ab mit Hilfe von `'%.4g' %` und `'%.2g' %` (Standardabweichung mit zwei signifikanten Stellen und die gleiche Genauigkeit für das Parameter: in unserem Fall sind das 4 signifikante Stellen). \n",
    "Um `poptS[1]` und `perrS[1]` in die Legende zu packen, müssen wir sie in strings konvertieren und zu den restlichen strings addieren:  \n",
    ">\n",
    ">`label='Fit, Parameter=' + str('%.4g' % poptS[1])+'$\\pm$'+str('%.2g' % perrS[1])+'Einheit'`\n",
    ">\n",
    ">Übrigens, Bild-Legenden verstehen Latex. Daher könnten wir`$\\pm$` verwenden, um ein Plus/Minus-Zeichen zu schreiben. "
   ]
  },
  {
   "cell_type": "code",
   "execution_count": null,
   "id": "56502c06-4540-449a-be90-bf235820d1f6",
   "metadata": {},
   "outputs": [],
   "source": []
  }
 ],
 "metadata": {
  "kernelspec": {
   "display_name": "Python 3 (ipykernel)",
   "language": "python",
   "name": "python3"
  },
  "language_info": {
   "codemirror_mode": {
    "name": "ipython",
    "version": 3
   },
   "file_extension": ".py",
   "mimetype": "text/x-python",
   "name": "python",
   "nbconvert_exporter": "python",
   "pygments_lexer": "ipython3",
   "version": "3.12.4"
  }
 },
 "nbformat": 4,
 "nbformat_minor": 5
}
