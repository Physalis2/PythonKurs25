{
 "cells": [
  {
   "cell_type": "markdown",
   "id": "8d6692aa",
   "metadata": {},
   "source": [
    "# Teil 1: Grundtypen \"int\", \"float\", \"complex\"   \n",
    "     \n",
    "               \n",
    "Python hat viele Variablen-Arten und Operatoren. Hier werden Sie die meisten kennenlernen. Zusätzliche Informationen kann man [hier](https://docs.python.org/3/library/stdtypes.html) finden.\n",
    "\n",
    "<font color='blue'> \n",
    "Eine Variablen-Art (*type*) ist für den Rechner ein Paar, welches aus einer Domäne (z.B. reelle Zahlen) und Operationen an ihnen (z.B. Addition, Muliplikation) besteht. </font>\n",
    "\n",
    "Wenn man sich für einen Typ entscheidet, wählt man dadurch auch die Operationen, die möglich sind.\n",
    "\n",
    "\n",
    "Python Variablen sind Zeiger auf Adressen, unter denen diverse Objekte stehen dürfen. Durch das sog. *dynamic typing* von z.B. ganzen Zahlen kommt es nicht zum overflow wie in anderen Sprachen, z.B. C, wo ganze Zahlen *fixed-precision* sind, und maximale Werte erreichen können (often etwa $2^{31}$ or $2^{63}$, systemabhängig). Man kann in Python z.B. $2^{200}$ berechnen.\n",
    "\n",
    "Durch das *dynamic typing* man kann einem Variablen-Namen unterschiedliche Typen zuweisen. Python ist keine Typ-sichere Sprache. \n"
   ]
  },
  {
   "cell_type": "markdown",
   "id": "5c93dce2",
   "metadata": {},
   "source": [
    "<center><b>Python Skalartypen</b></center>\n",
    "\n",
    "| Typ         | Beispiel       | Beschreibung                                                 |\n",
    "|-------------|----------------|--------------------------------------------------------------|\n",
    "| ``int``     | ``x = 1``      | integers (ganze Zahlen)                                        |\n",
    "| ``float``   | ``x = 1.0``    | floating-point numbers (Gleitkommazahlen)                    |\n",
    "| ``complex`` | ``x = 1 + 2j`` | Complex numbers (komplexe Zahlen)                            |\n",
    "| ``str``     | ``x = 'abc'``  | String: Zeichen, Zeichenketten, Texte                        |\n",
    "| ``bool``    | ``x = True``   | Boolean: True/False: Boolsche Werte                          |\n",
    "| ``NoneType``| ``x = None``   | Spezielle Objekte, die Nullen zeigen                          |"
   ]
  },
  {
   "cell_type": "markdown",
   "id": "fc180c30",
   "metadata": {},
   "source": [
    "<center><b>Python eingebaute Funktionen (ein Auszug) </b></center>\n",
    "\n",
    "|<b>Funktion</b>|  | <b>Argument</b>      |  |               <b>Beschreibung</b>                                     | \n",
    "|-----------|--|--------------------------|--|-----------------------------------------------------------------------|\n",
    "|  abs()    |  | integer, float           |  | Ermittelt den Betrag des Arguments                                    | \n",
    "|  bin()    |  | integer                  |  | Konvertiert das Argument in einen binären String mit dem Präfix '0b'  | \n",
    "|  hex()    |  | integer                  |  | Konvertiert das Argument in einen hexadezimalen String mit dem Präfix '0x'  | \n",
    "|  oct()    |  | integer                  |  | Konvertiert das Argument in einen octalen String mit dem Präfix '0o'  | \n",
    "|  eval()   |  | string                   |  | Wertet einen String als mathematischen Ausdruck aus                   |\n",
    "|  float()  |  | Zahl oder Zeichenkette   |  | Konvertiert das Argument in eine Gleitkomma(punkt)zahl                | \n",
    "|  id()     |  | Objekt                   |  | Gibt den Integer-Wert \"Identität\" des Objekts zurück                  |\n",
    "|  int()    |  | Zahl oder Zeichenkette   |  | Konvertiert das Argument in ein Integer-Objekt                        | \n",
    "|  input()  |  | string                   |  | Liest einen String aus der Standardeingabe aus und gibt ihn zurück    | \n",
    "|  print()  |  | Objekte                  |  | Gibt Werte aus                                                        |\n",
    "|  range()  |  | integer, integer, integer|  | Erzeugt eine Liste aus Ganzzahlen                                     | \n",
    "|  round()  |  | float, integer           |  | Rundet eine Gleitkomma(punkt)zahl                                     |\n",
    "|  type()   |  | Variable                 |  | Gibt den Typ einer Variablen zurück                                   |\n"
   ]
  },
  {
   "cell_type": "markdown",
   "id": "73ab6ed1",
   "metadata": {},
   "source": [
    "Eine Liste der Grundfunktionen findet man in https://docs.python.org/3/library/functions.html  \n",
    "\n",
    "Hilfe zu Funktionen und Variablen kann man mit `?` erhalten. Eine Liste der möglichen Methoden (Funktionen an Objekten) kann man auch mit der TAB-Taste erhalten."
   ]
  },
  {
   "cell_type": "code",
   "execution_count": null,
   "id": "bf547fd0-268b-4eac-bb2c-6687daa2792f",
   "metadata": {},
   "outputs": [],
   "source": []
  },
  {
   "cell_type": "code",
   "execution_count": null,
   "id": "3d6c071d-b4db-40aa-9424-70d1c2a43889",
   "metadata": {},
   "outputs": [],
   "source": []
  },
  {
   "cell_type": "code",
   "execution_count": null,
   "id": "89aa3270-4e5d-4477-8d30-301aebcacb48",
   "metadata": {},
   "outputs": [],
   "source": []
  },
  {
   "cell_type": "markdown",
   "id": "584ce15a",
   "metadata": {},
   "source": [
    "## Operationen an numerischen Variablen"
   ]
  },
  {
   "cell_type": "markdown",
   "id": "381e7650",
   "metadata": {},
   "source": [
    "### Zuweisung Operationen"
   ]
  },
  {
   "cell_type": "code",
   "execution_count": null,
   "id": "1ca26b1b-bacc-4c89-9368-5b39353b5bb3",
   "metadata": {},
   "outputs": [],
   "source": []
  },
  {
   "cell_type": "code",
   "execution_count": null,
   "id": "8de45179-00a9-4ff0-9dea-ad3b16151a60",
   "metadata": {},
   "outputs": [],
   "source": []
  },
  {
   "cell_type": "markdown",
   "id": "b3024c72",
   "metadata": {},
   "source": [
    "### Arithmetische (rechnerische) Operationen\n",
    "Python benutzt sieben arithmetische binäre Operationen, die zwei letzen können als unitäre Operationen gesehen werden.\n",
    "\n",
    "\n",
    "| Operator     | Name           | Beschreibung                                           |\n",
    "|--------------|----------------|--------------------------------------------------------|\n",
    "| ``a + b``    | Addition       | Summe von ``a`` und ``b``                              |\n",
    "| ``a - b``    | Subtraktion    | Differenz von ``a`` und ``b``                          |\n",
    "| ``a * b``    | Multiplikation | Produkt von ``a`` und ``b``                            |\n",
    "| ``a / b``    | Wahre Division | Quotient von ``a`` und ``b``                           |\n",
    "| ``a // b``   | Floor Division | Quotient von ``a`` und ``b``, ohne Rest                |\n",
    "| ``a % b``    | Modulo         | Teilungsrest der Division von ``a`` durch ``b``        |\n",
    "| ``a ** b``   | Potenz         | ``a`` hoch  ``b``                                      |\n",
    "| ``-a``       | Negation       | Negativwert von ``a``                                  |\n",
    "| ``+a``       | Unary plus     | ``a`` unverändert (selten benutzt)                     |\n",
    "\n",
    "Die Ausgabe der Operationen hat den selben Typ wie die eigegebenen Zahlen, bis auf Division von ganzen Zahlen (da kommt float heraus). Eine Operation auf zwei unterschiedlichen Typen gibt den \"komplizierteren\" Typ aus. "
   ]
  },
  {
   "cell_type": "code",
   "execution_count": null,
   "id": "5f7d7dca-8a27-4a5d-b064-5bec8ad00499",
   "metadata": {},
   "outputs": [],
   "source": []
  },
  {
   "cell_type": "code",
   "execution_count": null,
   "id": "02c64ac5-2a25-4e7d-a8fa-53ea935c136e",
   "metadata": {},
   "outputs": [],
   "source": []
  },
  {
   "cell_type": "markdown",
   "id": "84c42754",
   "metadata": {},
   "source": [
    "### Bitweise logische Operationen\n",
    "\n",
    "In Python kann man bitweise logische Operationen auf **Ganzzahlen** durchführen:\n",
    "\n",
    "| Operator     | Name            | Description                                                |\n",
    "|--------------|-----------------|------------------------------------------------------------|\n",
    "| ``a & b``    | Bitwise AND     | Bits definiert in sowohl in ``a`` wie auch in ``b``        |\n",
    "| <code>a &#124; b</code>| Bitwise OR      | Bits definiert in ``a`` oder ``b`` (oder beiden) |\n",
    "| ``a ^ b``    | Bitwise XOR     | Bits definiert in ``a`` oder ``b`` aber nicht in beiden    |\n",
    "| ``a << b``   | Bit shift left  | Verschiebt Bits von  ``a`` um ``b`` Einheiten nach links   |\n",
    "| ``a >> b``   | Bit shift right | Verschiebt Bits von  ``a`` um ``b`` Einheiten nach rechts  |\n",
    "| ``~a``       | Bitwise NOT     | Bitwise Negation von ``a``                                 |\n",
    "\n",
    "Diese bitweisen Operatoren ergeben nur Sinn bei der binären Representation von Zahlen, die man mit der eingebauten Funtion ``bin(zahl)`` sehen kann:"
   ]
  },
  {
   "cell_type": "code",
   "execution_count": null,
   "id": "ffbf6a9d-9a1b-41a9-98de-93260cfc3ffe",
   "metadata": {},
   "outputs": [],
   "source": []
  },
  {
   "cell_type": "code",
   "execution_count": null,
   "id": "12edd6d0-f801-44eb-bd1a-fd12c3d384de",
   "metadata": {},
   "outputs": [],
   "source": []
  },
  {
   "cell_type": "markdown",
   "id": "6f962b49",
   "metadata": {},
   "source": [
    "## Aufgabe  1.1\n",
    "verschieben Sie bits der Zahlen 16, 10 und 2 um    \n",
    "a) eine Stelle nach rechts,    \n",
    "b) zwei Stellen nach links.    \n",
    "Welchen arithmetischen Operationen entsprechen diese bit-Verschiebungen? "
   ]
  },
  {
   "cell_type": "code",
   "execution_count": null,
   "id": "7603d456-1984-4fd4-bbd9-d9cd0237b2cc",
   "metadata": {},
   "outputs": [],
   "source": []
  },
  {
   "cell_type": "markdown",
   "id": "bbf080e7",
   "metadata": {},
   "source": [
    "## Aufgabe 1.2\n",
    "Folgend finden Sie ein Liste von Variablen-Bezeichnungen\n",
    "```python\n",
    "var1\n",
    "var_2\n",
    "_var3\n",
    "4var\n",
    "_5var\n",
    "6_var\n",
    "$var7\n",
    "var 8\n",
    "```\n",
    "Prüfen Sie, welche dieser Bezeichnungen in Python erlaubt ist.\n",
    "\n",
    "Können Sie mehr Bezeichnungen finden, die in Python erlaubt oder nicht erlaubt sind?"
   ]
  },
  {
   "cell_type": "code",
   "execution_count": null,
   "id": "574b3af2-08fd-4b7f-98d1-246b7265ad05",
   "metadata": {},
   "outputs": [],
   "source": []
  },
  {
   "cell_type": "markdown",
   "id": "37c51d58",
   "metadata": {},
   "source": [
    "## Aufagbe 1.3\n",
    "Schauen Sie sich den folgenden Python-Code an und versuchen Sie die folgende Frage **ohne den Code auszuprobieren** zu beantworten:\n",
    "\n",
    "```python\n",
    "x1 = 3.75\n",
    "x2 = 42\n",
    "tmp = x1\n",
    "x1 = x2\n",
    "x2 = tmp\n",
    "```\n",
    "\n",
    "Welchen Wert haben die Variablen x1 und x2 nach dem Ausführen?\n",
    "\n",
    "Kontrollieren Sie Ihre Antwort, indem Sie den Code ausprobieren und den Wert von x1 und x2 nach dem Ausführen ausgeben. War Ihre Analyse korrekt?"
   ]
  },
  {
   "cell_type": "code",
   "execution_count": null,
   "id": "0941547b",
   "metadata": {},
   "outputs": [],
   "source": []
  },
  {
   "cell_type": "markdown",
   "id": "a6b3ec97",
   "metadata": {},
   "source": [
    "## Aufagbe 1.4\n",
    "Schauen Sie sich folgenden Python-Code an\n",
    "```python\n",
    "x1, x2 = 3.75, 42\n",
    "x2, x1 = x1, x2\n",
    "```\n",
    "Wird dieser Code ohne Fehlermeldung ausgeführt?\n",
    "\n",
    "Welchen Wert haben x1 und x2 nach dem Ausführen?\n",
    "\n",
    "Haben Sie das Resultat erwartet?"
   ]
  },
  {
   "cell_type": "code",
   "execution_count": null,
   "id": "d7cec841-e88b-4b73-8b4b-f99287aa8909",
   "metadata": {},
   "outputs": [],
   "source": []
  }
 ],
 "metadata": {
  "kernelspec": {
   "display_name": "Python 3 (ipykernel)",
   "language": "python",
   "name": "python3"
  },
  "language_info": {
   "codemirror_mode": {
    "name": "ipython",
    "version": 3
   },
   "file_extension": ".py",
   "mimetype": "text/x-python",
   "name": "python",
   "nbconvert_exporter": "python",
   "pygments_lexer": "ipython3",
   "version": "3.12.7"
  }
 },
 "nbformat": 4,
 "nbformat_minor": 5
}
