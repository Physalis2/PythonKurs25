{
 "cells": [
  {
   "cell_type": "markdown",
   "id": "a465a5f9",
   "metadata": {},
   "source": [
    "# Teil 5: Steuerungsstrukturen (controll flow): if, match, while, for\n",
    "\n",
    "ermöglichen, das Programm in Abhängigkeit von Parameters auszuführuren oder wiederholen.    "
   ]
  },
  {
   "cell_type": "markdown",
   "id": "04f57a41",
   "metadata": {},
   "source": [
    "## ``if - elif -  else``"
   ]
  },
  {
   "cell_type": "markdown",
   "id": "d2955c4f",
   "metadata": {},
   "source": [
    "Einfachste Steuerung eines Programms: wenn eine Bedingung erfüllt ist (hat den boolschen Wert ``True``), soll ein Block des Programms durchlaufen.  \n",
    "Python-Syntax dazu:\n",
    "\n",
    "```python\n",
    "if Bedingung_1:\n",
    "    mach etwas\n",
    "elif Bedingung_2:\n",
    "    mach etwas Anderes\n",
    "else:\n",
    "    sonst mach noch etwas Anderes\n",
    "```\n",
    "\n",
    "Übringes: man kann soviele `elif`-s haben, wie man will!    \n",
    "\n",
    "`Bedingung` muss vom Typ `bool` sein, d.h. es kann ein Resultat einer Vergleichsoperation sein (z.B. `a == b, a !=b, a > b, a <= b` oder direkt ein bolscher Ergebnis (`True`/`False`), oder Ergebnis einer boolschen Operation (z.B. `a or b`) \n",
    "\n",
    "> <font color=red> **Wichtig!** </font>  \n",
    "> **Die Einrückungen durch TAB-Taste (4xLeerzeichen) und die Doppelpunkte (``:``)** zeigen dem Python, dass es sich um > > seine besondere Struktur handelt."
   ]
  },
  {
   "cell_type": "code",
   "execution_count": 22,
   "id": "2b1c4030-a26a-4df1-9fc4-c00360ddb526",
   "metadata": {},
   "outputs": [
    {
     "name": "stdout",
     "output_type": "stream",
     "text": [
      "x ist 4\n"
     ]
    }
   ],
   "source": [
    "x = 4\n",
    "if x == 1:\n",
    "    print(\"x ist 1\")\n",
    "elif x == 2:\n",
    "    print(\"x ist 2\")\n",
    "elif x == 3:\n",
    "    print(\"x ist 3\")\n",
    "elif x == 4:\n",
    "    print(\"x ist 4\")\n",
    "elif x == 5:\n",
    "    print(\"x ist 5\")\n",
    "elif x <= 0:\n",
    "    print(\"x <= 0\")\n",
    "else:\n",
    "    print(\"x > 5 \")\n",
    "#autchtunf if breucht keine () aber : am ende"
   ]
  },
  {
   "cell_type": "code",
   "execution_count": 23,
   "id": "a1ed6915-d9d0-41aa-81b5-0204b694acd7",
   "metadata": {},
   "outputs": [
    {
     "name": "stdout",
     "output_type": "stream",
     "text": [
      "None\n"
     ]
    }
   ],
   "source": [
    "if '':\n",
    "    print(\"Hello\")\n",
    "else:\n",
    "    print(\"None\")\n",
    "#wenn if 0 None '' dann ist die bedingung immr false andere dinge wie 'False' ist ein strring (gefüllt) also 1 True"
   ]
  },
  {
   "cell_type": "markdown",
   "id": "e87b3876",
   "metadata": {},
   "source": [
    "**Ternärer Operator**"
   ]
  },
  {
   "cell_type": "code",
   "execution_count": 24,
   "id": "30376c28-dd32-458c-a6bb-c887ecdb09fd",
   "metadata": {},
   "outputs": [
    {
     "data": {
      "text/plain": [
       "'rot'"
      ]
     },
     "execution_count": 24,
     "metadata": {},
     "output_type": "execute_result"
    }
   ],
   "source": [
    "# bedingung in eine Zeile\n",
    "#a if bedingung else b\n",
    "temp = 38\n",
    "farbe = \"rot\" if temp > 37 else \"blau\"\n",
    "farbe\n",
    "#kürzt halt die nroemale if elsebedinung ab"
   ]
  },
  {
   "cell_type": "markdown",
   "id": "a411cac2",
   "metadata": {},
   "source": [
    "### Aufgabe 5.1 (FizzBuzz)\n",
    "\n",
    "Schreiben Sie ein Programm, das für gegebene Zahlen folgende Ausgabe erzeugt:\n",
    "* für Zahlen die durch drei teilbar sind 'Fizz'\n",
    "* für Zahlen die durch sieben teilbar sind 'Buzz'\n",
    "* für Zahlen die durch sieben UND drei teilbar sind 'FizzBuzz'\n",
    "* für alle anderen Zahlen wird die Zahl ausgegeben    \n",
    "\n",
    "*Hinweis:* Welcher numerische Operator gibt den Rest der Teilung durch eine Zahl?\n",
    "\n",
    "Können Sie die Aufgabe ohne die Verwendung eines IF-Befehls lösen?\n"
   ]
  },
  {
   "cell_type": "code",
   "execution_count": 25,
   "id": "d8f1dc89-0bcf-4158-b74f-7477b55a3551",
   "metadata": {},
   "outputs": [
    {
     "name": "stdout",
     "output_type": "stream",
     "text": [
      "FizzBuzz\n"
     ]
    }
   ],
   "source": [
    "x = 21\n",
    "if ((x % 3) == (0)) & ((x % 7) == (0)):\n",
    "    print(\"FizzBuzz\")\n",
    "elif (x % 3) == (0):\n",
    "    print(\"Fizz\")\n",
    "elif (x % 7) == (0):\n",
    "    print(\"Buzz\")\n",
    "else:\n",
    "    print(x)"
   ]
  },
  {
   "cell_type": "markdown",
   "id": "3dc562f7",
   "metadata": {},
   "source": [
    "## ``match case`` "
   ]
  },
  {
   "cell_type": "markdown",
   "id": "1238d57d",
   "metadata": {},
   "source": [
    "statt switch case gibt es seit **Python 3.10** \n",
    "match case\n",
    "https://www.freecodecamp.org/news/python-switch-statement-switch-case-example/\n",
    "\n",
    "```python\n",
    "trimm_poti = Wert\n",
    "\n",
    "match trimm_poti:   \n",
    "    case Wert-1:    \n",
    "        Aktion-1    \n",
    "    case Wert-2:    \n",
    "        Aktion-2    \n",
    "    case Wert-3:    \n",
    "        Aktion-3    \n",
    "    case _:    \n",
    "        Aktion-default    \n",
    "```            \n",
    "kein \"break\", wie in anderen Sprachen!        "
   ]
  },
  {
   "cell_type": "code",
   "execution_count": 26,
   "id": "ee0e5f60-12ed-4f57-aa83-aa3f2c90e51d",
   "metadata": {},
   "outputs": [
    {
     "name": "stdout",
     "output_type": "stream",
     "text": [
      "5\n"
     ]
    }
   ],
   "source": [
    "x = 5\n",
    "match x:\n",
    "    case 1:\n",
    "        print(\"1\")\n",
    "    case 5:\n",
    "        print(\"5\")\n",
    "    case 5:\n",
    "        print(\"hi\")\n",
    "    case _:\n",
    "        print(\"Nicht 1 oder 5\")\n",
    "#return bei ersten gefundenen case der passt"
   ]
  },
  {
   "cell_type": "markdown",
   "id": "2aa85931",
   "metadata": {},
   "source": [
    "## Wiederholungsstrukturen (in Python sehr langsam)"
   ]
  },
  {
   "cell_type": "markdown",
   "id": "fbc02b4c",
   "metadata": {},
   "source": [
    "## ``while`` - Schleife\n",
    "\n",
    "Während/solange eine Bedingung war ist, mach etwas\n",
    "```python\n",
    "while True:\n",
    "    mach etwas\n",
    "```    \n",
    "\n",
    "><font color=red> **Wichtig!** </font>  \n",
    ">Ist die Bedingung immer erfüllt, haben wir eine Endlosschleife!"
   ]
  },
  {
   "cell_type": "code",
   "execution_count": 27,
   "id": "8f455305-3ec1-4744-8fdf-58efb392a9b6",
   "metadata": {},
   "outputs": [
    {
     "data": {
      "text/plain": [
       "(0.0, 1082)"
      ]
     },
     "execution_count": 27,
     "metadata": {},
     "output_type": "execute_result"
    }
   ],
   "source": [
    "x = 100;\n",
    "count = 0\n",
    "while x > 0:\n",
    "    x /= 2\n",
    "    count += 1\n",
    "x, count"
   ]
  },
  {
   "cell_type": "code",
   "execution_count": 28,
   "id": "46c823ff-c6b1-4701-985e-59ed2e6bfa09",
   "metadata": {},
   "outputs": [
    {
     "data": {
      "text/plain": [
       "([0, 0, 0, 0, 0, 0, 0, 0, 0, 0, 0],\n",
       " [0, 0, 0, 0, 0, 0, 0, 0, 0, 0, 0],\n",
       " [0, 0, 0, 0, 0, 0, 0, 0, 0, 0, 0])"
      ]
     },
     "execution_count": 28,
     "metadata": {},
     "output_type": "execute_result"
    }
   ],
   "source": [
    "x = 0\n",
    "y1 = [0]\n",
    "y2 = [0]\n",
    "y3 = [0]\n",
    "\n",
    "while x < 10:\n",
    "    y1.append(0)\n",
    "    y2.append(0)\n",
    "    y3.append(0)\n",
    "    x += 1\n",
    "y1, y2 ,y3"
   ]
  },
  {
   "cell_type": "code",
   "execution_count": 29,
   "id": "1ac6768a-6af7-41c3-8381-92c36106ae87",
   "metadata": {},
   "outputs": [
    {
     "data": {
      "text/plain": [
       "([0, 3, [2, 2]], [2, 2])"
      ]
     },
     "execution_count": 29,
     "metadata": {},
     "output_type": "execute_result"
    }
   ],
   "source": [
    "yTest1 = [0,3]\n",
    "yTest2 = [2,2]\n",
    "yTest1.append(yTest2)\n",
    "yTest1, yTest2"
   ]
  },
  {
   "cell_type": "code",
   "execution_count": 30,
   "id": "486fed05-e6b0-498c-b789-ed85e2efeaa0",
   "metadata": {},
   "outputs": [
    {
     "data": {
      "text/plain": [
       "[0, 3, [2, 2, 0]]"
      ]
     },
     "execution_count": 30,
     "metadata": {},
     "output_type": "execute_result"
    }
   ],
   "source": [
    "yTest1[2].append(0)\n",
    "yTest1"
   ]
  },
  {
   "cell_type": "code",
   "execution_count": 31,
   "id": "f0b657b5-4471-4921-9139-e43d88b03fbd",
   "metadata": {},
   "outputs": [
    {
     "data": {
      "text/plain": [
       "[0]"
      ]
     },
     "execution_count": 31,
     "metadata": {},
     "output_type": "execute_result"
    }
   ],
   "source": [
    "test2 = []\n",
    "test2.append(0)\n",
    "test2"
   ]
  },
  {
   "cell_type": "code",
   "execution_count": 32,
   "id": "88f55702-3a84-40d5-b049-00f99764b0dd",
   "metadata": {},
   "outputs": [
    {
     "name": "stdout",
     "output_type": "stream",
     "text": [
      "[[]]\n",
      "[[], []]\n",
      "[[], [], []]\n",
      "[[], [], [], []]\n",
      "[[], [], [], [], []]\n",
      "[[0], [0], [0], [0], [0]]\n",
      "[[0, 0], [0, 0], [0, 0], [0, 0], [0, 0]]\n",
      "[[0, 0, 0], [0, 0, 0], [0, 0, 0], [0, 0, 0], [0, 0, 0]]\n",
      "[[0, 0, 0, 0], [0, 0, 0, 0], [0, 0, 0, 0], [0, 0, 0, 0], [0, 0, 0, 0]]\n",
      "[[0, 0, 0, 0, 0], [0, 0, 0, 0, 0], [0, 0, 0, 0, 0], [0, 0, 0, 0, 0], [0, 0, 0, 0, 0]]\n"
     ]
    },
    {
     "data": {
      "text/plain": [
       "[[0, 0, 0, 1, 0],\n",
       " [0, 0, 0, 1, 0],\n",
       " [0, 0, 0, 1, 0],\n",
       " [0, 0, 0, 1, 0],\n",
       " [0, 0, 0, 1, 0]]"
      ]
     },
     "execution_count": 32,
     "metadata": {},
     "output_type": "execute_result"
    }
   ],
   "source": [
    "# ohen copy\n",
    "breite = 5\n",
    "höhe = 5\n",
    "höhe2 = höhe\n",
    "array = []\n",
    "arrayLeer = []\n",
    "while höhe > 0:\n",
    "    array.append(arrayLeer) \n",
    "    print(array)\n",
    "    höhe -= 1\n",
    "while breite > 0:\n",
    "    array[0].append(0)\n",
    "    print(array)\n",
    "    breite -= 1\n",
    "array[2][3] = 1\n",
    "array\n",
    "# nutzen von arrayleer.copy() um leere array hinzu zu fügen und nicht array pointer sonst passiert das"
   ]
  },
  {
   "cell_type": "code",
   "execution_count": 33,
   "id": "3c1d6dea-a112-4d03-8e02-ea519d5dc51a",
   "metadata": {},
   "outputs": [
    {
     "data": {
      "text/plain": [
       "[[0], [], []]"
      ]
     },
     "execution_count": 33,
     "metadata": {},
     "output_type": "execute_result"
    }
   ],
   "source": [
    "testArray = [[],[],[]]\n",
    "testArray[0].append(0)\n",
    "testArray"
   ]
  },
  {
   "cell_type": "code",
   "execution_count": 34,
   "id": "a517996e-9d26-4e7e-a863-69f201a4fb2e",
   "metadata": {},
   "outputs": [],
   "source": [
    "#proplem array in arry sind alle gleich, da sie von arrayleer abstammen"
   ]
  },
  {
   "cell_type": "code",
   "execution_count": 35,
   "id": "56e293f7-37cf-4b12-a401-c01ee716308f",
   "metadata": {},
   "outputs": [
    {
     "name": "stdout",
     "output_type": "stream",
     "text": [
      "[[]]\n",
      "[[], []]\n",
      "[[], [], []]\n",
      "[[], [], [], []]\n",
      "[[], [], [], [], []]\n",
      "0\n",
      "[[0], [], [], [], []]\n",
      "1\n",
      "[[0], [0], [], [], []]\n",
      "2\n",
      "[[0], [0], [0], [], []]\n",
      "3\n",
      "[[0], [0], [0], [0], []]\n",
      "4\n",
      "[[0], [0], [0], [0], [0]]\n",
      "0\n",
      "[[0, 0], [0], [0], [0], [0]]\n",
      "1\n",
      "[[0, 0], [0, 0], [0], [0], [0]]\n",
      "2\n",
      "[[0, 0], [0, 0], [0, 0], [0], [0]]\n",
      "3\n",
      "[[0, 0], [0, 0], [0, 0], [0, 0], [0]]\n",
      "4\n",
      "[[0, 0], [0, 0], [0, 0], [0, 0], [0, 0]]\n",
      "0\n",
      "[[0, 0, 0], [0, 0], [0, 0], [0, 0], [0, 0]]\n",
      "1\n",
      "[[0, 0, 0], [0, 0, 0], [0, 0], [0, 0], [0, 0]]\n",
      "2\n",
      "[[0, 0, 0], [0, 0, 0], [0, 0, 0], [0, 0], [0, 0]]\n",
      "3\n",
      "[[0, 0, 0], [0, 0, 0], [0, 0, 0], [0, 0, 0], [0, 0]]\n",
      "4\n",
      "[[0, 0, 0], [0, 0, 0], [0, 0, 0], [0, 0, 0], [0, 0, 0]]\n",
      "0\n",
      "[[0, 0, 0, 0], [0, 0, 0], [0, 0, 0], [0, 0, 0], [0, 0, 0]]\n",
      "1\n",
      "[[0, 0, 0, 0], [0, 0, 0, 0], [0, 0, 0], [0, 0, 0], [0, 0, 0]]\n",
      "2\n",
      "[[0, 0, 0, 0], [0, 0, 0, 0], [0, 0, 0, 0], [0, 0, 0], [0, 0, 0]]\n",
      "3\n",
      "[[0, 0, 0, 0], [0, 0, 0, 0], [0, 0, 0, 0], [0, 0, 0, 0], [0, 0, 0]]\n",
      "4\n",
      "[[0, 0, 0, 0], [0, 0, 0, 0], [0, 0, 0, 0], [0, 0, 0, 0], [0, 0, 0, 0]]\n",
      "0\n",
      "[[0, 0, 0, 0, 0], [0, 0, 0, 0], [0, 0, 0, 0], [0, 0, 0, 0], [0, 0, 0, 0]]\n",
      "1\n",
      "[[0, 0, 0, 0, 0], [0, 0, 0, 0, 0], [0, 0, 0, 0], [0, 0, 0, 0], [0, 0, 0, 0]]\n",
      "2\n",
      "[[0, 0, 0, 0, 0], [0, 0, 0, 0, 0], [0, 0, 0, 0, 0], [0, 0, 0, 0], [0, 0, 0, 0]]\n",
      "3\n",
      "[[0, 0, 0, 0, 0], [0, 0, 0, 0, 0], [0, 0, 0, 0, 0], [0, 0, 0, 0, 0], [0, 0, 0, 0]]\n",
      "4\n",
      "[[0, 0, 0, 0, 0], [0, 0, 0, 0, 0], [0, 0, 0, 0, 0], [0, 0, 0, 0, 0], [0, 0, 0, 0, 0]]\n"
     ]
    },
    {
     "data": {
      "text/plain": [
       "[[0, 0, 0, 0, 0],\n",
       " [0, 0, 0, 0, 0],\n",
       " [0, 0, 0, 0, 0],\n",
       " [0, 0, 0, 0, 0],\n",
       " [0, 0, 0, 0, 0]]"
      ]
     },
     "execution_count": 35,
     "metadata": {},
     "output_type": "execute_result"
    }
   ],
   "source": [
    "breite = 5\n",
    "höhe = 5\n",
    "höhe2 = höhe\n",
    "array = []\n",
    "arrayLeer = []\n",
    "while höhe > 0:\n",
    "    array.append(arrayLeer.copy()) #muss copy sein da sonst alle arrays idetisch sind und wenn man array[2][3] verändert sind 2[n][3] auch anders\n",
    "    print(array)\n",
    "    höhe -= 1\n",
    "while breite > 0:\n",
    "    x = 0\n",
    "    while x < höhe2:\n",
    "        array[x].append(0)\n",
    "        print(x)\n",
    "        print(array)\n",
    "        x += 1\n",
    "    breite -= 1\n",
    "array"
   ]
  },
  {
   "cell_type": "code",
   "execution_count": 114,
   "id": "77bab0ea-b867-421c-b016-c4f88335b200",
   "metadata": {},
   "outputs": [
    {
     "data": {
      "text/plain": [
       "[[0, 0, 0, 0, 0],\n",
       " [0, 0, 0, 0, 0],\n",
       " [0, 0, 0, 0, 0],\n",
       " [0, 0, 0, 0, 0],\n",
       " [0, 0, 0, 0, 0]]"
      ]
     },
     "execution_count": 114,
     "metadata": {},
     "output_type": "execute_result"
    }
   ],
   "source": [
    "breite = 5\n",
    "höhe = 5\n",
    "höhe2 = höhe\n",
    "array = []\n",
    "arrayLeer = []\n",
    "while höhe > 0:\n",
    "    array.append(arrayLeer.copy()) #muss copy sein da sonst alle arrays idetisch sind und wenn man array[2][3] verändert sind 2[n][3] auch anders\n",
    "    höhe -= 1\n",
    "while breite > 0:\n",
    "    x = 0\n",
    "    while x < höhe2:\n",
    "        array[x].append(0)\n",
    "        x += 1\n",
    "    breite -= 1\n",
    "array"
   ]
  },
  {
   "cell_type": "markdown",
   "id": "3cb8e520",
   "metadata": {},
   "source": [
    "### Aufgabe 5.2 (Fibonacci-Folge)\n",
    "Erstellen Sie die Fibonacci-Folge bis 100000 mit Hilfe der ``while``-Schleife und speichern Sie diese als eine Liste.\n",
    "* a<sub>0</sub> = 0,\n",
    "* a<sub>1</sub> = 1,\n",
    "* a<sub>n</sub> = a<sub>n-1</sub> + a<sub>n-2</sub> "
   ]
  },
  {
   "cell_type": "code",
   "execution_count": 36,
   "id": "683e8391-deef-49a6-8c64-55c235833121",
   "metadata": {},
   "outputs": [
    {
     "data": {
      "text/plain": [
       "[0, 1, 1, 2, 3, 5, 8, 13, 21, 34, 55, 89, 144, 233, 377, 610, 987]"
      ]
     },
     "execution_count": 36,
     "metadata": {},
     "output_type": "execute_result"
    }
   ],
   "source": [
    "a = [0,1]\n",
    "x = 1000\n",
    "count = 0\n",
    "while (a[-2]+a[-1]) < 1000:\n",
    "    a.append(a[-2]+a[-1])\n",
    "a"
   ]
  },
  {
   "cell_type": "markdown",
   "id": "e3ca871b",
   "metadata": {
    "jp-MarkdownHeadingCollapsed": true
   },
   "source": [
    "## ```for``` - Schleife\n",
    "\n",
    "Iteriert durch eine Sammlung (collection: Zeichenkette, Liste, tuple, numpy-array, von a bis z, etc.) und führt ein Block vom Befehlen aus ('macht etwas'):\n",
    "\n",
    "```python\n",
    "for Element in Sammlung:\n",
    "    mach etwas\n",
    "```\n",
    "\n",
    "wenn 'Element' in 'mach etwas'  nicht vorkommt, dann kann man schreiben:   \n",
    "\n",
    "```python\n",
    "for _ in Sammlung:\n",
    "    mach etwas\n",
    "```"
   ]
  },
  {
   "cell_type": "code",
   "execution_count": 37,
   "id": "67f3ffe0-a24b-4110-9715-52bde006478c",
   "metadata": {},
   "outputs": [
    {
     "name": "stdout",
     "output_type": "stream",
     "text": [
      "E\n",
      "i\n",
      "n\n",
      "e\n",
      "m\n",
      " \n",
      "S\n",
      "t\n",
      "a\n",
      "z\n",
      "t\n"
     ]
    }
   ],
   "source": [
    "for Buchstabe in \"Einem Stazt\":\n",
    "    print(Buchstabe)"
   ]
  },
  {
   "cell_type": "code",
   "execution_count": 38,
   "id": "612e8b96-7ae5-42c6-baa7-95cb8e320ee1",
   "metadata": {},
   "outputs": [
    {
     "data": {
      "text/plain": [
       "9"
      ]
     },
     "execution_count": 38,
     "metadata": {},
     "output_type": "execute_result"
    }
   ],
   "source": [
    "len(\"Ein Stazt\")"
   ]
  },
  {
   "cell_type": "code",
   "execution_count": 39,
   "id": "aba4888e-6772-4463-914d-b72eb33e2322",
   "metadata": {},
   "outputs": [
    {
     "data": {
      "text/plain": [
       "[0, 1, 2, 3, 4, 5, 6, 7, 8, 9]"
      ]
     },
     "execution_count": 39,
     "metadata": {},
     "output_type": "execute_result"
    }
   ],
   "source": [
    "list(range(10))"
   ]
  },
  {
   "cell_type": "code",
   "execution_count": 40,
   "id": "449c0ddb-1285-4200-aab8-1969d394c962",
   "metadata": {},
   "outputs": [
    {
     "name": "stdout",
     "output_type": "stream",
     "text": [
      "0\n",
      "1\n",
      "2\n",
      "3\n",
      "4\n",
      "5\n",
      "6\n",
      "7\n",
      "8\n",
      "9\n"
     ]
    }
   ],
   "source": [
    "for i in range(10):\n",
    "    print(i)"
   ]
  },
  {
   "cell_type": "code",
   "execution_count": 45,
   "id": "f26c2f8b-38ef-4f69-a3bb-2d22a1c31af1",
   "metadata": {},
   "outputs": [
    {
     "name": "stdout",
     "output_type": "stream",
     "text": [
      "2\n",
      "3\n",
      "4\n",
      "5\n",
      "6\n"
     ]
    }
   ],
   "source": [
    "for i in range(2,7):\n",
    "    print(i)"
   ]
  },
  {
   "cell_type": "code",
   "execution_count": 44,
   "id": "a144d39d-f915-4b2e-90e8-3be155aca0e7",
   "metadata": {},
   "outputs": [
    {
     "name": "stdout",
     "output_type": "stream",
     "text": [
      "0\n",
      "4\n",
      "8\n",
      "12\n",
      "16\n"
     ]
    }
   ],
   "source": [
    "for i in range(0,20,4):\n",
    "    print(i)"
   ]
  },
  {
   "cell_type": "markdown",
   "id": "afa0eb33",
   "metadata": {},
   "source": [
    "Für Schleifen soll man Funktion `range` kennen."
   ]
  },
  {
   "cell_type": "markdown",
   "id": "cb4fa0cd",
   "metadata": {},
   "source": [
    "### `break` und `continue`\n",
    "Mit `break` kann eine Schleife abgebrochen werden"
   ]
  },
  {
   "cell_type": "code",
   "execution_count": 41,
   "id": "e9c87465-993a-4beb-ad1e-323de2a27c8f",
   "metadata": {},
   "outputs": [
    {
     "name": "stdout",
     "output_type": "stream",
     "text": [
      "0\n",
      "1\n",
      "2\n",
      "3\n",
      "4\n",
      "5\n"
     ]
    }
   ],
   "source": [
    "for i in range(10):\n",
    "    print(i)\n",
    "    if i == 5:\n",
    "        break"
   ]
  },
  {
   "cell_type": "markdown",
   "id": "fe1b9f3e",
   "metadata": {},
   "source": [
    "Mit `continue` wird nur der aktuelle Schritt der Schleife unterbrochen"
   ]
  },
  {
   "cell_type": "code",
   "execution_count": 54,
   "id": "f1c53f68-bf1b-4d8b-a4bb-021f7e3cc4b2",
   "metadata": {},
   "outputs": [
    {
     "name": "stdout",
     "output_type": "stream",
     "text": [
      "0\n",
      "1\n",
      "2\n",
      "3\n",
      "8\n",
      "9\n"
     ]
    }
   ],
   "source": [
    "for i in range(10):\n",
    "    if (i > 3) & (i < 8):\n",
    "        continue\n",
    "    print(i)"
   ]
  },
  {
   "cell_type": "markdown",
   "id": "4e0068bb",
   "metadata": {},
   "source": [
    "## List comprehension\n",
    "Eine verkürzte Version der for-Schleife mit einer Bedingung, anwendbar an Listen-Elemeten.   \n",
    "Nützlich z.B. für eine numerische Lösung einer sympy-Lösung, um sie graphisch darzustellen."
   ]
  },
  {
   "cell_type": "code",
   "execution_count": null,
   "id": "18408abd-3b67-4073-a6eb-df7cd930f069",
   "metadata": {},
   "outputs": [],
   "source": [
    "li3 = [1,2,3,4,5,6,7,8,9]\n",
    "li4 = [el / 2 for el in li3 if el % 2 == 0]\n",
    "li4\n",
    "#komische kurzschreibweise"
   ]
  },
  {
   "cell_type": "markdown",
   "id": "acf8efe1",
   "metadata": {},
   "source": [
    "### Aufgabe 5.3 (Dreieck)\n",
    "Schreiben Sie en Programm, das ein Sternchen-Dreieck ausgibt, mit der Höhe (von der linken Seite aus gesehen), von 2 oder 3 oder 4 Sternchen hat, je nach `h`-Angabe (h = 2, 3 oder 4).      \n",
    "Sie können dazu die Funktion `range` verwenden. Vergessen Sie bitte nicht, dass die letzte Zahl bereits ausserhalb des Bereiches liegt! z.B. zum `range(50)` gehört 50 nicht mehr!    \n",
    "\n",
    "Ein Beispiel für h = 3\n",
    "\n",
    "```python\n",
    "*   \n",
    "**  \n",
    "***\n",
    "**\n",
    "*\n",
    "```"
   ]
  },
  {
   "cell_type": "code",
   "execution_count": 57,
   "id": "a476741f-ff02-41e8-9a9a-4b2db4a1a32e",
   "metadata": {},
   "outputs": [
    {
     "name": "stdout",
     "output_type": "stream",
     "text": [
      "*\n",
      "**\n",
      "***\n",
      "****\n",
      "***\n",
      "**\n",
      "*\n"
     ]
    }
   ],
   "source": [
    "h = 4\n",
    "x = 1\n",
    "while x < h + 1:\n",
    "    print(\"*\"*x)\n",
    "    x += 1\n",
    "x -= 2\n",
    "while x > 0:\n",
    "    print(\"*\"*x)\n",
    "    x -= 1"
   ]
  },
  {
   "cell_type": "markdown",
   "id": "cf8ee23c",
   "metadata": {},
   "source": [
    "### Aufgabe 5.4 (Primzahlen)\n",
    "Erstellen Sie eine Liste aller Primzahlen kleiner 100"
   ]
  },
  {
   "cell_type": "code",
   "execution_count": 99,
   "id": "9f46615a-ff96-4b05-a2d5-34a17c405476",
   "metadata": {},
   "outputs": [
    {
     "data": {
      "text/plain": [
       "[3,\n",
       " 5,\n",
       " 7,\n",
       " 11,\n",
       " 13,\n",
       " 17,\n",
       " 19,\n",
       " 23,\n",
       " 29,\n",
       " 31,\n",
       " 37,\n",
       " 41,\n",
       " 43,\n",
       " 47,\n",
       " 53,\n",
       " 59,\n",
       " 61,\n",
       " 67,\n",
       " 71,\n",
       " 73,\n",
       " 79,\n",
       " 83,\n",
       " 89,\n",
       " 97]"
      ]
     },
     "execution_count": 99,
     "metadata": {},
     "output_type": "execute_result"
    }
   ],
   "source": [
    "primZahlLi = []\n",
    "for i in range(2,101):\n",
    "    for x in range(2,i):\n",
    "        if (i % x == 0):\n",
    "            break\n",
    "        elif x == i - 1:\n",
    "            primZahlLi.append(i)\n",
    "primZahlLi"
   ]
  },
  {
   "cell_type": "markdown",
   "id": "767c8998",
   "metadata": {},
   "source": [
    "### Aufgabe 5.2a (Fibonacci-Elemente und Quadraten)\n",
    "Aus Ihrer Fibonacci-Liste holen Sie nur die Zahlen aus, die Quadraten sind, z.B. `3*3, 4*4`, und erstellen Sie aus ihnen eine andere Liste. "
   ]
  },
  {
   "cell_type": "code",
   "execution_count": 118,
   "id": "b1bac4ec-aafb-4b74-9f48-cd0d60913748",
   "metadata": {},
   "outputs": [
    {
     "data": {
      "text/plain": [
       "([1, 1, 144],\n",
       " [0, 1, 1, 2, 3, 5, 8, 13, 21, 34, 55, 89, 144, 233, 377, 610, 987])"
      ]
     },
     "execution_count": 118,
     "metadata": {},
     "output_type": "execute_result"
    }
   ],
   "source": [
    "a = [0,1]\n",
    "x = 1000\n",
    "b = []\n",
    "count = 1\n",
    "while (a[-2]+a[-1]) < 1000:\n",
    "    a.append(a[-2]+a[-1])\n",
    "a\n",
    "for el in a:\n",
    "    count = 1\n",
    "    for i in range(1,el):\n",
    "        if count**2 < el:\n",
    "            count += 1\n",
    "    if count** 2 == el:\n",
    "        b.append(el)\n",
    "b,a\n"
   ]
  },
  {
   "cell_type": "markdown",
   "id": "d5770327",
   "metadata": {},
   "source": [
    "### Aufgabe 5.5 (Fakultät)*\n",
    "Die Fakultät ist für natürlichen Zahlen definiert:\n",
    "```python\n",
    "0! = 1        \n",
    "1! = 1   \n",
    "2! = 2*1\n",
    "3! = 3*2\n",
    "4! = 4*3*2\n",
    "...\n",
    "n! = n*(n-1)*(n-2)*...*2*1\n",
    "```\n",
    "Schreiben Sie eine  Schleife, die die Fakultät einer Zahl rechnet. Zum Schluss soll sie ausgegeben werden."
   ]
  },
  {
   "cell_type": "code",
   "execution_count": 113,
   "id": "2145f407-d9fa-46ec-866e-7285531ad852",
   "metadata": {},
   "outputs": [
    {
     "data": {
      "text/plain": [
       "120"
      ]
     },
     "execution_count": 113,
     "metadata": {},
     "output_type": "execute_result"
    }
   ],
   "source": [
    "n = 5\n",
    "erg = 1;\n",
    "for i in range(1,n + 1):\n",
    "    erg *= i\n",
    "erg"
   ]
  }
 ],
 "metadata": {
  "kernelspec": {
   "display_name": "Python 3 (ipykernel)",
   "language": "python",
   "name": "python3"
  },
  "language_info": {
   "codemirror_mode": {
    "name": "ipython",
    "version": 3
   },
   "file_extension": ".py",
   "mimetype": "text/x-python",
   "name": "python",
   "nbconvert_exporter": "python",
   "pygments_lexer": "ipython3",
   "version": "3.12.7"
  }
 },
 "nbformat": 4,
 "nbformat_minor": 5
}
