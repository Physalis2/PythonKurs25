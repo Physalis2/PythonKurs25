{
 "cells": [
  {
   "cell_type": "markdown",
   "id": "8d6692aa",
   "metadata": {},
   "source": [
    "# Teil 1: Grundtypen \"int\", \"float\", \"complex\"   \n",
    "     \n",
    "               \n",
    "Python hat viele Variablen-Arten und Operatoren. Hier werden Sie die meisten kennenlernen. Zusätzliche Informationen kann man [hier](https://docs.python.org/3/library/stdtypes.html) finden.\n",
    "\n",
    "<font color='blue'> \n",
    "Eine Variablen-Art (*type*) ist für den Rechner ein Paar, welches aus einer Domäne (z.B. reelle Zahlen) und Operationen an ihnen (z.B. Addition, Muliplikation) besteht. </font>\n",
    "\n",
    "Wenn man sich für einen Typ entscheidet, wählt man dadurch auch die Operationen, die möglich sind.\n",
    "\n",
    "\n",
    "Python Variablen sind Zeiger auf Adressen, unter denen diverse Objekte stehen dürfen. Durch das sog. *dynamic typing* von z.B. ganzen Zahlen kommt es nicht zum overflow wie in anderen Sprachen, z.B. C, wo ganze Zahlen *fixed-precision* sind, und maximale Werte erreichen können (often etwa $2^{31}$ or $2^{63}$, systemabhängig). Man kann in Python z.B. $2^{200}$ berechnen.\n",
    "\n",
    "Durch das *dynamic typing* man kann einem Variablen-Namen unterschiedliche Typen zuweisen. Python ist keine Typ-sichere Sprache. \n"
   ]
  },
  {
   "cell_type": "markdown",
   "id": "5c93dce2",
   "metadata": {},
   "source": [
    "<center><b>Python Skalartypen</b></center>\n",
    "\n",
    "| Typ         | Beispiel       | Beschreibung                                                 |\n",
    "|-------------|----------------|--------------------------------------------------------------|\n",
    "| ``int``     | ``x = 1``      | integers (ganze Zahlen)                                        |\n",
    "| ``float``   | ``x = 1.0``    | floating-point numbers (Gleitkommazahlen)                    |\n",
    "| ``complex`` | ``x = 1 + 2j`` | Complex numbers (komplexe Zahlen)                            |\n",
    "| ``str``     | ``x = 'abc'``  | String: Zeichen, Zeichenketten, Texte                        |\n",
    "| ``bool``    | ``x = True``   | Boolean: True/False: Boolsche Werte                          |\n",
    "| ``NoneType``| ``x = None``   | Spezielle Objekte, die Nullen zeigen                          |"
   ]
  },
  {
   "cell_type": "markdown",
   "id": "fc180c30",
   "metadata": {},
   "source": [
    "<center><b>Python eingebaute Funktionen (ein Auszug) </b></center>\n",
    "\n",
    "|<b>Funktion</b>|  | <b>Argument</b>      |  |               <b>Beschreibung</b>                                     | \n",
    "|-----------|--|--------------------------|--|-----------------------------------------------------------------------|\n",
    "|  abs()    |  | integer, float           |  | Ermittelt den Betrag des Arguments                                    | \n",
    "|  bin()    |  | integer                  |  | Konvertiert das Argument in einen binären String mit dem Präfix '0b'  | \n",
    "|  hex()    |  | integer                  |  | Konvertiert das Argument in einen hexadezimalen String mit dem Präfix '0x'  | \n",
    "|  oct()    |  | integer                  |  | Konvertiert das Argument in einen octalen String mit dem Präfix '0o'  | \n",
    "|  eval()   |  | string                   |  | Wertet einen String als mathematischen Ausdruck aus                   |\n",
    "|  float()  |  | Zahl oder Zeichenkette   |  | Konvertiert das Argument in eine Gleitkomma(punkt)zahl                | \n",
    "|  id()     |  | Objekt                   |  | Gibt den Integer-Wert \"Identität\" des Objekts zurück                  |\n",
    "|  int()    |  | Zahl oder Zeichenkette   |  | Konvertiert das Argument in ein Integer-Objekt                        | \n",
    "|  input()  |  | string                   |  | Liest einen String aus der Standardeingabe aus und gibt ihn zurück    | \n",
    "|  print()  |  | Objekte                  |  | Gibt Werte aus                                                        |\n",
    "|  range()  |  | integer, integer, integer|  | Erzeugt eine Liste aus Ganzzahlen                                     | \n",
    "|  round()  |  | float, integer           |  | Rundet eine Gleitkomma(punkt)zahl                                     |\n",
    "|  type()   |  | Variable                 |  | Gibt den Typ einer Variablen zurück                                   |\n"
   ]
  },
  {
   "cell_type": "markdown",
   "id": "73ab6ed1",
   "metadata": {},
   "source": [
    "Eine Liste der Grundfunktionen findet man in https://docs.python.org/3/library/functions.html  \n",
    "\n",
    "Hilfe zu Funktionen und Variablen kann man mit `?` erhalten. Eine Liste der möglichen Methoden (Funktionen an Objekten) kann man auch mit der TAB-Taste erhalten."
   ]
  },
  {
   "cell_type": "code",
   "execution_count": 1,
   "id": "bf547fd0-268b-4eac-bb2c-6687daa2792f",
   "metadata": {},
   "outputs": [
    {
     "data": {
      "text/plain": [
       "'0b1'"
      ]
     },
     "execution_count": 1,
     "metadata": {},
     "output_type": "execute_result"
    }
   ],
   "source": [
    "z = 1\n",
    "bin(z)"
   ]
  },
  {
   "cell_type": "code",
   "execution_count": 2,
   "id": "3d6c071d-b4db-40aa-9424-70d1c2a43889",
   "metadata": {},
   "outputs": [
    {
     "data": {
      "text/plain": [
       "(NoneType, str, int)"
      ]
     },
     "execution_count": 2,
     "metadata": {},
     "output_type": "execute_result"
    }
   ],
   "source": [
    "x = None\n",
    "y = \"baum\"\n",
    "type(x), type(y), type(z)\n",
    "# ausgabe von mehr als zwei types?\n",
    "# print oder mit komma getrennt"
   ]
  },
  {
   "cell_type": "code",
   "execution_count": 3,
   "id": "89aa3270-4e5d-4477-8d30-301aebcacb48",
   "metadata": {
    "scrolled": true
   },
   "outputs": [
    {
     "data": {
      "text/plain": [
       "14"
      ]
     },
     "execution_count": 3,
     "metadata": {},
     "output_type": "execute_result"
    }
   ],
   "source": [
    "l = \"2 + 3 * 4\"\n",
    "eval(l)\n",
    "#ohne str davor man muss nicht deklarieren\n",
    "#eval() kann * vor -"
   ]
  },
  {
   "cell_type": "code",
   "execution_count": 4,
   "id": "4f850ad8-dc86-480e-9bb7-1e41debebda3",
   "metadata": {},
   "outputs": [
    {
     "name": "stdout",
     "output_type": "stream",
     "text": [
      "3\n"
     ]
    }
   ],
   "source": [
    "a = [1,2,3,4,5,]\n",
    "print(a[2])"
   ]
  },
  {
   "cell_type": "code",
   "execution_count": 5,
   "id": "85eb1769-4b33-4851-99a5-2846d214d42a",
   "metadata": {},
   "outputs": [
    {
     "name": "stdout",
     "output_type": "stream",
     "text": [
      "[1, 2, 3, 4, 5]\n"
     ]
    }
   ],
   "source": [
    "print(a)\n",
    "#arrays mit [] eckigen Klammern anstellen von {}\n",
    "#kennt a auch wenn in einem adern Block definiert"
   ]
  },
  {
   "cell_type": "code",
   "execution_count": 6,
   "id": "b615633f-1c57-411e-b7c1-4488971eaaea",
   "metadata": {},
   "outputs": [
    {
     "name": "stdout",
     "output_type": "stream",
     "text": [
      "[1, 2, 3, 4, 5, 6]\n",
      "range(6, 10)\n"
     ]
    },
    {
     "data": {
      "text/plain": [
       "[6, 7, 8, 9]"
      ]
     },
     "execution_count": 6,
     "metadata": {},
     "output_type": "execute_result"
    }
   ],
   "source": [
    "a = [1,2,3,4,5,6]\n",
    "print(a)\n",
    "#typen nicht identisch wird aber überschrieben\n",
    "a = range(6,10)\n",
    "print(a)\n",
    "a\n",
    "#wie bekomme ich range in ein array an zahlen\n",
    "list(a)\n",
    "#mit liste weil idk"
   ]
  },
  {
   "cell_type": "code",
   "execution_count": 7,
   "id": "be68f7f7-705d-430d-992b-af199e986707",
   "metadata": {},
   "outputs": [
    {
     "name": "stdout",
     "output_type": "stream",
     "text": [
      "0.75\n",
      "2.0\n",
      "0.375\n"
     ]
    },
    {
     "data": {
      "text/plain": [
       "(float, float, float)"
      ]
     },
     "execution_count": 7,
     "metadata": {},
     "output_type": "execute_result"
    }
   ],
   "source": [
    "u = 3\n",
    "i = 4\n",
    "k = 8.0\n",
    "print(u/i)\n",
    "print(k/i)\n",
    "print(u/k)\n",
    "type(u/i), type(k/i), type(u/k)"
   ]
  },
  {
   "cell_type": "code",
   "execution_count": 8,
   "id": "8d3d3a06-e1eb-44ae-b403-cd14002f1165",
   "metadata": {},
   "outputs": [
    {
     "name": "stdout",
     "output_type": "stream",
     "text": [
      "3.0 -12 300000000000.0\n"
     ]
    }
   ],
   "source": [
    "g, r, o = 3.0, -12, 30e10\n",
    "print(g, r, o)\n",
    "#mehrere zuweisungen in einer zeile möglich, Achtung! Verutschungs gefahr"
   ]
  },
  {
   "cell_type": "code",
   "execution_count": 9,
   "id": "27288811-8472-4ef7-979b-238494466282",
   "metadata": {},
   "outputs": [
    {
     "data": {
      "text/plain": [
       "(complex, complex, complex)"
      ]
     },
     "execution_count": 9,
     "metadata": {},
     "output_type": "execute_result"
    }
   ],
   "source": [
    "z = 2 + 3j\n",
    "y = complex(2, 5)\n",
    "i = complex(\"1+2j\")\n",
    "type(z), type(y), type(i)"
   ]
  },
  {
   "cell_type": "code",
   "execution_count": 10,
   "id": "705d120d-e610-40a6-8536-03714cd97bf1",
   "metadata": {},
   "outputs": [
    {
     "data": {
      "text/plain": [
       "3.605551275463989"
      ]
     },
     "execution_count": 10,
     "metadata": {},
     "output_type": "execute_result"
    }
   ],
   "source": [
    "abs(z)"
   ]
  },
  {
   "cell_type": "code",
   "execution_count": 11,
   "id": "2815c936-9868-46bb-83c4-cded2daec287",
   "metadata": {},
   "outputs": [
    {
     "data": {
      "text/plain": [
       "(2-3j)"
      ]
     },
     "execution_count": 11,
     "metadata": {},
     "output_type": "execute_result"
    }
   ],
   "source": [
    "z.conjugate()"
   ]
  },
  {
   "cell_type": "code",
   "execution_count": 12,
   "id": "376797a2-c23b-4749-bab3-f87884e844ea",
   "metadata": {},
   "outputs": [
    {
     "data": {
      "text/plain": [
       "(2.0, 3.0)"
      ]
     },
     "execution_count": 12,
     "metadata": {},
     "output_type": "execute_result"
    }
   ],
   "source": [
    "z.real, z.imag"
   ]
  },
  {
   "cell_type": "code",
   "execution_count": 13,
   "id": "8c381936-a0f1-45d8-b8eb-22b3faaefc55",
   "metadata": {},
   "outputs": [
    {
     "data": {
      "text/plain": [
       "\u001b[1;31mType:\u001b[0m        complex\n",
       "\u001b[1;31mString form:\u001b[0m (2+3j)\n",
       "\u001b[1;31mDocstring:\u001b[0m  \n",
       "Create a complex number from a string or numbers.\n",
       "\n",
       "If a string is given, parse it as a complex number.\n",
       "If a single number is given, convert it to a complex number.\n",
       "If the 'real' or 'imag' arguments are given, create a complex number\n",
       "with the specified real and imaginary components."
      ]
     },
     "metadata": {},
     "output_type": "display_data"
    }
   ],
   "source": [
    "z?"
   ]
  },
  {
   "cell_type": "markdown",
   "id": "584ce15a",
   "metadata": {},
   "source": [
    "## Operationen an numerischen Variablen"
   ]
  },
  {
   "cell_type": "markdown",
   "id": "381e7650",
   "metadata": {},
   "source": [
    "### Zuweisung Operationen"
   ]
  },
  {
   "cell_type": "code",
   "execution_count": 14,
   "id": "1ca26b1b-bacc-4c89-9368-5b39353b5bb3",
   "metadata": {},
   "outputs": [
    {
     "data": {
      "text/plain": [
       "3041818316160"
      ]
     },
     "execution_count": 14,
     "metadata": {},
     "output_type": "execute_result"
    }
   ],
   "source": [
    "a = 2,5\n",
    "id(a)"
   ]
  },
  {
   "cell_type": "code",
   "execution_count": 15,
   "id": "8de45179-00a9-4ff0-9dea-ad3b16151a60",
   "metadata": {},
   "outputs": [
    {
     "data": {
      "text/plain": [
       "(3, 140735764113912)"
      ]
     },
     "execution_count": 15,
     "metadata": {},
     "output_type": "execute_result"
    }
   ],
   "source": [
    "a = 3\n",
    "a, id(a)"
   ]
  },
  {
   "cell_type": "code",
   "execution_count": 16,
   "id": "6cff2e35-87f0-4bc8-8269-8d5a1239d6ff",
   "metadata": {},
   "outputs": [
    {
     "data": {
      "text/plain": [
       "7"
      ]
     },
     "execution_count": 16,
     "metadata": {},
     "output_type": "execute_result"
    }
   ],
   "source": [
    "a += 4\n",
    "#schneller als a = a + 4\n",
    "a"
   ]
  },
  {
   "cell_type": "markdown",
   "id": "b3024c72",
   "metadata": {},
   "source": [
    "### Arithmetische (rechnerische) Operationen\n",
    "Python benutzt sieben arithmetische binäre Operationen, die zwei letzen können als unitäre Operationen gesehen werden.\n",
    "\n",
    "\n",
    "| Operator     | Name           | Beschreibung                                           |\n",
    "|--------------|----------------|--------------------------------------------------------|\n",
    "| ``a + b``    | Addition       | Summe von ``a`` und ``b``                              |\n",
    "| ``a - b``    | Subtraktion    | Differenz von ``a`` und ``b``                          |\n",
    "| ``a * b``    | Multiplikation | Produkt von ``a`` und ``b``                            |\n",
    "| ``a / b``    | Wahre Division | Quotient von ``a`` und ``b``                           |\n",
    "| ``a // b``   | Floor Division | Quotient von ``a`` und ``b``, ohne Rest                |\n",
    "| ``a % b``    | Modulo         | Teilungsrest der Division von ``a`` durch ``b``        |\n",
    "| ``a ** b``   | Potenz         | ``a`` hoch  ``b``                                      |\n",
    "| ``-a``       | Negation       | Negativwert von ``a``                                  |\n",
    "| ``+a``       | Unary plus     | ``a`` unverändert (selten benutzt)                     |\n",
    "\n",
    "Die Ausgabe der Operationen hat den selben Typ wie die eigegebenen Zahlen, bis auf Division von ganzen Zahlen (da kommt float heraus). Eine Operation auf zwei unterschiedlichen Typen gibt den \"komplizierteren\" Typ aus. "
   ]
  },
  {
   "cell_type": "code",
   "execution_count": 17,
   "id": "5f7d7dca-8a27-4a5d-b064-5bec8ad00499",
   "metadata": {},
   "outputs": [
    {
     "data": {
      "text/plain": [
       "1"
      ]
     },
     "execution_count": 17,
     "metadata": {},
     "output_type": "execute_result"
    }
   ],
   "source": [
    "12//7"
   ]
  },
  {
   "cell_type": "code",
   "execution_count": 18,
   "id": "02c64ac5-2a25-4e7d-a8fa-53ea935c136e",
   "metadata": {},
   "outputs": [
    {
     "data": {
      "text/plain": [
       "5"
      ]
     },
     "execution_count": 18,
     "metadata": {},
     "output_type": "execute_result"
    }
   ],
   "source": [
    "12%7"
   ]
  },
  {
   "cell_type": "code",
   "execution_count": 19,
   "id": "b274771c-d600-475b-9eb9-129a3a62a747",
   "metadata": {},
   "outputs": [
    {
     "data": {
      "text/plain": [
       "36"
      ]
     },
     "execution_count": 19,
     "metadata": {},
     "output_type": "execute_result"
    }
   ],
   "source": [
    "6**2"
   ]
  },
  {
   "cell_type": "code",
   "execution_count": 20,
   "id": "15169702-7d97-4b9c-8b67-36dcb35ecb43",
   "metadata": {},
   "outputs": [
    {
     "data": {
      "text/plain": [
       "0.5"
      ]
     },
     "execution_count": 20,
     "metadata": {},
     "output_type": "execute_result"
    }
   ],
   "source": [
    "5%1.5"
   ]
  },
  {
   "cell_type": "code",
   "execution_count": 21,
   "id": "28ce0828-ccd5-4551-9089-667b9eff5a51",
   "metadata": {},
   "outputs": [
    {
     "data": {
      "text/plain": [
       "(3.0, 5.551115123125783e-17)"
      ]
     },
     "execution_count": 21,
     "metadata": {},
     "output_type": "execute_result"
    }
   ],
   "source": [
    "1/(1/3), 1%(1/3)"
   ]
  },
  {
   "cell_type": "markdown",
   "id": "84c42754",
   "metadata": {},
   "source": [
    "### Bitweise logische Operationen\n",
    "\n",
    "In Python kann man bitweise logische Operationen auf **Ganzzahlen** durchführen:\n",
    "\n",
    "| Operator     | Name            | Description                                                |\n",
    "|--------------|-----------------|------------------------------------------------------------|\n",
    "| ``a & b``    | Bitwise AND     | Bits definiert in sowohl in ``a`` wie auch in ``b``        |\n",
    "| <code>a &#124; b</code>| Bitwise OR      | Bits definiert in ``a`` oder ``b`` (oder beiden) |\n",
    "| ``a ^ b``    | Bitwise XOR     | Bits definiert in ``a`` oder ``b`` aber nicht in beiden    |\n",
    "| ``a << b``   | Bit shift left  | Verschiebt Bits von  ``a`` um ``b`` Einheiten nach links   |\n",
    "| ``a >> b``   | Bit shift right | Verschiebt Bits von  ``a`` um ``b`` Einheiten nach rechts  |\n",
    "| ``~a``       | Bitwise NOT     | Bitwise Negation von ``a``                                 |\n",
    "\n",
    "Diese bitweisen Operatoren ergeben nur Sinn bei der binären Representation von Zahlen, die man mit der eingebauten Funtion ``bin(zahl)`` sehen kann:"
   ]
  },
  {
   "cell_type": "code",
   "execution_count": 22,
   "id": "ffbf6a9d-9a1b-41a9-98de-93260cfc3ffe",
   "metadata": {},
   "outputs": [
    {
     "data": {
      "text/plain": [
       "2"
      ]
     },
     "execution_count": 22,
     "metadata": {},
     "output_type": "execute_result"
    }
   ],
   "source": [
    "2 & 3"
   ]
  },
  {
   "cell_type": "code",
   "execution_count": 23,
   "id": "12edd6d0-f801-44eb-bd1a-fd12c3d384de",
   "metadata": {},
   "outputs": [
    {
     "data": {
      "text/plain": [
       "('0b10', '0b11')"
      ]
     },
     "execution_count": 23,
     "metadata": {},
     "output_type": "execute_result"
    }
   ],
   "source": [
    "bin(2), bin(3)\n",
    "#und\n",
    "#vergleicht die binären stellen und führt den und operator pro stelleaus. 10 & 11 => 10 also 2"
   ]
  },
  {
   "cell_type": "code",
   "execution_count": 24,
   "id": "a678edf1-a035-4b05-97bc-8d34a20546ea",
   "metadata": {},
   "outputs": [
    {
     "data": {
      "text/plain": [
       "(3, '0b10', '0b11')"
      ]
     },
     "execution_count": 24,
     "metadata": {},
     "output_type": "execute_result"
    }
   ],
   "source": [
    "2 | 3, bin(2), bin(3)\n",
    "#oder\n",
    "#erwartung 0b10 | 0b11 => 0b11 also 3"
   ]
  },
  {
   "cell_type": "code",
   "execution_count": 25,
   "id": "3b162f6c-1af4-4ffb-a809-f8b12674bbea",
   "metadata": {},
   "outputs": [
    {
     "data": {
      "text/plain": [
       "(1, '0b10', '0b11')"
      ]
     },
     "execution_count": 25,
     "metadata": {},
     "output_type": "execute_result"
    }
   ],
   "source": [
    "2 ^ 3,  bin(2), bin(3)\n",
    "#Xor alo or aber verneint\n",
    "# vergleich 0b10 ^ 0b11 => 0b01 also 1"
   ]
  },
  {
   "cell_type": "code",
   "execution_count": 26,
   "id": "cd321b93-edf6-4de2-895b-9dafd7b07844",
   "metadata": {},
   "outputs": [
    {
     "data": {
      "text/plain": [
       "0"
      ]
     },
     "execution_count": 26,
     "metadata": {},
     "output_type": "execute_result"
    }
   ],
   "source": [
    "3 ^ 3\n",
    "#erwartung bei identischen zahlen immer = 0"
   ]
  },
  {
   "cell_type": "code",
   "execution_count": 27,
   "id": "9836c9a9-9fe9-4e06-a08d-6a882bf361b8",
   "metadata": {},
   "outputs": [
    {
     "data": {
      "text/plain": [
       "True"
      ]
     },
     "execution_count": 27,
     "metadata": {},
     "output_type": "execute_result"
    }
   ],
   "source": [
    "1 < 3"
   ]
  },
  {
   "cell_type": "code",
   "execution_count": 28,
   "id": "48fc83f7-d058-4f4b-9a2b-b30ddec2f4f7",
   "metadata": {},
   "outputs": [
    {
     "data": {
      "text/plain": [
       "16"
      ]
     },
     "execution_count": 28,
     "metadata": {},
     "output_type": "execute_result"
    }
   ],
   "source": [
    " 2 << 3\n",
    "#erwartung verschiebt 0b10 umd dreistellen nach links also 0b10000 => 16"
   ]
  },
  {
   "cell_type": "code",
   "execution_count": 29,
   "id": "fa6ca20b-ba04-409a-b89c-c4b4bf8f7b2a",
   "metadata": {},
   "outputs": [
    {
     "data": {
      "text/plain": [
       "0"
      ]
     },
     "execution_count": 29,
     "metadata": {},
     "output_type": "execute_result"
    }
   ],
   "source": [
    "2 >> 3\n",
    "#erwartung verscheibt 0b10 umd drei stellen nach links also 0b0.010 also 0b00 also 0"
   ]
  },
  {
   "cell_type": "code",
   "execution_count": 30,
   "id": "928c6a4c-2686-4136-b6a9-03659655d9d2",
   "metadata": {},
   "outputs": [
    {
     "data": {
      "text/plain": [
       "-4"
      ]
     },
     "execution_count": 30,
     "metadata": {},
     "output_type": "execute_result"
    }
   ],
   "source": [
    "~3 \n",
    "#erwartungbitweise not 0b11 wird zu 0b00 also 0"
   ]
  },
  {
   "cell_type": "code",
   "execution_count": 31,
   "id": "ca0aa148-8796-4486-b330-47021d8328ea",
   "metadata": {},
   "outputs": [
    {
     "data": {
      "text/plain": [
       "-4"
      ]
     },
     "execution_count": 31,
     "metadata": {},
     "output_type": "execute_result"
    }
   ],
   "source": [
    "~0b11"
   ]
  },
  {
   "cell_type": "code",
   "execution_count": 32,
   "id": "c52804ba-1199-48f6-befc-56d13d07be1c",
   "metadata": {},
   "outputs": [],
   "source": [
    "#Verneint indemfall auch den bit der das Vorzeichen ausmacht"
   ]
  },
  {
   "cell_type": "code",
   "execution_count": null,
   "id": "023ff254-30c8-4551-9fd8-dabf220d167b",
   "metadata": {},
   "outputs": [],
   "source": []
  },
  {
   "cell_type": "markdown",
   "id": "6f962b49",
   "metadata": {},
   "source": [
    "## Aufgabe  1.1\n",
    "verschieben Sie bits der Zahlen 16, 10 und 2 um    \n",
    "a) eine Stelle nach rechts,    \n",
    "b) zwei Stellen nach links.    \n",
    "Welchen arithmetischen Operationen entsprechen diese bit-Verschiebungen? "
   ]
  },
  {
   "cell_type": "code",
   "execution_count": 37,
   "id": "7603d456-1984-4fd4-bbd9-d9cd0237b2cc",
   "metadata": {},
   "outputs": [
    {
     "data": {
      "text/plain": [
       "(4, 64, 2, 40, 4.0, 64, 2.5, 40)"
      ]
     },
     "execution_count": 37,
     "metadata": {},
     "output_type": "execute_result"
    }
   ],
   "source": [
    "# 0b10000 zu 100 also 4    0b10000 zu 1000000 also 64\n",
    "# 0b1010 zu 10 aslso 2     0b1010 zu 101000 also 40\n",
    "16 >> 2, 16 << 2, 10 >> 2, 10 << 2, 16 / 2**2, 16 * 2**2, 10 / 2**2, 10 * 2**2\n",
    "# ? hypothese sind binär verschiebungen die zahl durch die 2**x verschiebung oder war das nur zufall?"
   ]
  },
  {
   "cell_type": "code",
   "execution_count": 40,
   "id": "0154b003-d179-4d97-ad1c-bd69e3b624dc",
   "metadata": {},
   "outputs": [
    {
     "data": {
      "text/plain": [
       "(4, 64, 2, 40, 4.0, 64, 2.0, 40)"
      ]
     },
     "execution_count": 40,
     "metadata": {},
     "output_type": "execute_result"
    }
   ],
   "source": [
    "# 0b10000 zu 100 also 4    0b10000 zu 1000000 also 64\n",
    "# 0b1010 zu 10 aslso 2     0b1010 zu 101000 also 40\n",
    "16 >> 2, 16 << 2, 10 >> 2, 10 << 2, 16 / 2**2, 16 * 2**2, 10 / 5, 10 * 2**2"
   ]
  },
  {
   "cell_type": "code",
   "execution_count": 41,
   "id": "8269c5b6-3a76-4481-a1fe-69504de386af",
   "metadata": {},
   "outputs": [
    {
     "data": {
      "text/plain": [
       "(0, 0.625)"
      ]
     },
     "execution_count": 41,
     "metadata": {},
     "output_type": "execute_result"
    }
   ],
   "source": [
    "#schnell antwort nein. \n",
    "20 >> 5, 20/ 2**5\n",
    "#gibt es eine allgemeine formel?\n",
    "#ich denke nicht"
   ]
  },
  {
   "cell_type": "markdown",
   "id": "bbf080e7",
   "metadata": {},
   "source": [
    "## Aufgabe 1.2\n",
    "Folgend finden Sie ein Liste von Variablen-Bezeichnungen\n",
    "```python\n",
    "var1\n",
    "var_2\n",
    "_var3\n",
    "4var\n",
    "_5var\n",
    "6_var\n",
    "$var7\n",
    "var 8\n",
    "```\n",
    "Prüfen Sie, welche dieser Bezeichnungen in Python erlaubt ist.\n",
    "\n",
    "Können Sie mehr Bezeichnungen finden, die in Python erlaubt oder nicht erlaubt sind?"
   ]
  },
  {
   "cell_type": "code",
   "execution_count": 47,
   "id": "574b3af2-08fd-4b7f-98d1-246b7265ad05",
   "metadata": {},
   "outputs": [],
   "source": [
    "#vermutung alle außer die variablen mit den zahlen am Anfang\n",
    "var1 = 1\n",
    "var_2 = 1\n",
    "_var3 = 1\n",
    "#4var =1\n",
    "_5var = 1\n",
    "#6_var = 1\n",
    "#$var7 = 1\n",
    "#var 8 = 1\n",
    "#alle variablen mit Sonderzeichen, zahlen am anfang zahlen ohne verbinding z.B. \"_\" zur variable"
   ]
  },
  {
   "cell_type": "markdown",
   "id": "37c51d58",
   "metadata": {},
   "source": [
    "## Aufagbe 1.3\n",
    "Schauen Sie sich den folgenden Python-Code an und versuchen Sie die folgende Frage **ohne den Code auszuprobieren** zu beantworten:\n",
    "\n",
    "```python\n",
    "x1 = 3.75\n",
    "x2 = 42\n",
    "tmp = x1\n",
    "x1 = x2\n",
    "x2 = tmp\n",
    "```\n",
    "\n",
    "Welchen Wert haben die Variablen x1 und x2 nach dem Ausführen?\n",
    "\n",
    "Kontrollieren Sie Ihre Antwort, indem Sie den Code ausprobieren und den Wert von x1 und x2 nach dem Ausführen ausgeben. War Ihre Analyse korrekt?"
   ]
  },
  {
   "cell_type": "code",
   "execution_count": 49,
   "id": "0941547b",
   "metadata": {},
   "outputs": [
    {
     "data": {
      "text/plain": [
       "(42, 3.75, 3.75)"
      ]
     },
     "execution_count": 49,
     "metadata": {},
     "output_type": "execute_result"
    }
   ],
   "source": [
    "#vermutung x1 = 42, x2 = 3.75, tmp = 3.75  \n",
    "x1 = 3.75 \n",
    "x2 = 42\n",
    "tmp = x1\n",
    "x1 = x2\n",
    "x2 = tmp\n",
    "x1, x2, tmp"
   ]
  },
  {
   "cell_type": "markdown",
   "id": "a6b3ec97",
   "metadata": {},
   "source": [
    "## Aufagbe 1.4\n",
    "Schauen Sie sich folgenden Python-Code an\n",
    "```python\n",
    "x1, x2 = 3.75, 42\n",
    "x2, x1 = x1, x2\n",
    "```\n",
    "Wird dieser Code ohne Fehlermeldung ausgeführt?\n",
    "\n",
    "Welchen Wert haben x1 und x2 nach dem Ausführen?\n",
    "\n",
    "Haben Sie das Resultat erwartet?"
   ]
  },
  {
   "cell_type": "code",
   "execution_count": 50,
   "id": "d7cec841-e88b-4b73-8b4b-f99287aa8909",
   "metadata": {},
   "outputs": [
    {
     "data": {
      "text/plain": [
       "(3.75, 42)"
      ]
     },
     "execution_count": 50,
     "metadata": {},
     "output_type": "execute_result"
    }
   ],
   "source": [
    "x1, x2 = 3.75, 42 # geht aufjedenfall \n",
    "x2, x1 = x1, x2 #könnte aber könnte auch nicht. ich glaueb er führt x2 = x1 und dann erst x1 = x2 aus erg also x2 = 3,75 x1 0 3,75\n",
    "x2, x1"
   ]
  },
  {
   "cell_type": "code",
   "execution_count": null,
   "id": "2206e269-a51f-4af0-b486-ac03d1d0520b",
   "metadata": {},
   "outputs": [],
   "source": [
    "#führt die zweite zeile gleichzeitig aus. wie in Aufgabe 1.3 aber ohen die variable temp."
   ]
  }
 ],
 "metadata": {
  "kernelspec": {
   "display_name": "Python 3 (ipykernel)",
   "language": "python",
   "name": "python3"
  },
  "language_info": {
   "codemirror_mode": {
    "name": "ipython",
    "version": 3
   },
   "file_extension": ".py",
   "mimetype": "text/x-python",
   "name": "python",
   "nbconvert_exporter": "python",
   "pygments_lexer": "ipython3",
   "version": "3.12.7"
  }
 },
 "nbformat": 4,
 "nbformat_minor": 5
}
