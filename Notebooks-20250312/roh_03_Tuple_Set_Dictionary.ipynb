{
 "cells": [
  {
   "cell_type": "markdown",
   "metadata": {},
   "source": [
    "# Teil 3: Grundtypen \"tuple\", \"set\", \"dictionary\""
   ]
  },
  {
   "cell_type": "markdown",
   "metadata": {},
   "source": [
    "## Tuple\n",
    "* es wird in runden () Klammern geschrieben, \n",
    "* ist fast wie eine Liste, man kann allerdings seine Elemente nicht ändern (ist **immutable**), ohne neues Tuple zu schreiben,\n",
    "* **häufige Anwendung:** \n",
    "    * **Ausgabe (return) der Funktionen**, wenn mehr als ein Element ausgegeben werden soll.    \n",
    "    * **Initialisierung mehrdimensionalen numpy-Vektoren**  "
   ]
  },
  {
   "cell_type": "code",
   "execution_count": null,
   "metadata": {},
   "outputs": [],
   "source": []
  },
  {
   "cell_type": "code",
   "execution_count": null,
   "metadata": {},
   "outputs": [],
   "source": []
  },
  {
   "cell_type": "markdown",
   "metadata": {},
   "source": [
    "## Set (Menge)\n",
    "* es wird in geschweiften Klammern {} geschrieben, wie in **Mathematik eine Menge**\n",
    "* Wiederholungen der Elemente werden vermieden\n",
    "* man kann auf seine Elemente nicht zugreifen\n",
    "* nimmt wenig Platz und ist schnell"
   ]
  },
  {
   "cell_type": "code",
   "execution_count": null,
   "metadata": {},
   "outputs": [],
   "source": []
  },
  {
   "cell_type": "code",
   "execution_count": null,
   "metadata": {},
   "outputs": [],
   "source": []
  },
  {
   "cell_type": "markdown",
   "metadata": {},
   "source": [
    "## Dictionary (Wörterbuch)\n",
    "* kommt in manchen anderen Sprachen (C, C++) nicht vor, in anderen (javascript) schon, \n",
    "* wird in geschweiften Klammern {} geschrieben, wobei seine Elemente Paare von key-value (Schlüssel-Wert) bilden, mit Doppelpunkt zwischen dem Schlüssel-Wort und dem Wert-Wort, \n",
    "* ist praktisch, wenn man ein Wörterbuch/Bibliothek/Videothek mit verschiedenen Gendre, Interpreter und Titel erstellen will, da Werte an sich neue dictionaries sein können (Struktur einer pivot-Tabelle),\n",
    "* **seine Anwendung in der Technik: sympy (symbolisches python, ein der Computer Algebra Systeme) gibt oft seine Ergebnisse als dictionary raus.** Man muss wissen, wie man darauf zugreifen kann."
   ]
  },
  {
   "cell_type": "code",
   "execution_count": null,
   "metadata": {},
   "outputs": [],
   "source": []
  },
  {
   "cell_type": "code",
   "execution_count": null,
   "metadata": {},
   "outputs": [],
   "source": []
  },
  {
   "cell_type": "markdown",
   "metadata": {},
   "source": [
    "### Aufgabe 3.1\n",
    "Versuchen Sie ein dictionary (ein paar Wörter) zu schreiben, der von Deutsch ins Englische übersetzt."
   ]
  },
  {
   "cell_type": "code",
   "execution_count": null,
   "metadata": {},
   "outputs": [],
   "source": []
  },
  {
   "cell_type": "markdown",
   "metadata": {},
   "source": [
    "### Aufgabe 3.2*\n",
    "Speicher Sie aus der unten stehender Ausgabe ``loesung`` von sympy (Lösung des linearen Gleichungssytems (LGS)) den berechneten x-Wert  in einer Variablen, um ihn weiter zu verwenden (z.B. für Graphen)."
   ]
  },
  {
   "cell_type": "code",
   "execution_count": 33,
   "metadata": {},
   "outputs": [
    {
     "data": {
      "text/plain": [
       "{x: 0.5*z, y: -z}"
      ]
     },
     "execution_count": 33,
     "metadata": {},
     "output_type": "execute_result"
    }
   ],
   "source": [
    "import sympy as sy\n",
    "\n",
    "# Symbole definieren\n",
    "x, y, z = sy.symbols('x y z')\n",
    "\n",
    "# Gleichungssystem definieren\n",
    "Gleichungssystem = [\n",
    "                    sy.Eq(x - 0.5*y - z, 0),\n",
    "                    sy.Eq(2*x + y , 0),\n",
    "                    sy.Eq(y + z, 0)\n",
    "                    ]\n",
    "\n",
    "# Gleichungssystem lösen lassen\n",
    "loesung = sy.solve(Gleichungssystem)\n",
    "loesung # x und y als Funktionen von z: unendlich viele Lösungen"
   ]
  },
  {
   "cell_type": "code",
   "execution_count": null,
   "metadata": {},
   "outputs": [],
   "source": []
  }
 ],
 "metadata": {
  "kernelspec": {
   "display_name": "Python 3 (ipykernel)",
   "language": "python",
   "name": "python3"
  },
  "language_info": {
   "codemirror_mode": {
    "name": "ipython",
    "version": 3
   },
   "file_extension": ".py",
   "mimetype": "text/x-python",
   "name": "python",
   "nbconvert_exporter": "python",
   "pygments_lexer": "ipython3",
   "version": "3.12.4"
  }
 },
 "nbformat": 4,
 "nbformat_minor": 4
}
